{
 "cells": [
  {
   "cell_type": "markdown",
   "metadata": {},
   "source": [
    "# Titanic Survival Predictor\n"
   ]
  },
  {
   "cell_type": "code",
   "execution_count": 66,
   "metadata": {},
   "outputs": [
    {
     "name": "stdout",
     "output_type": "stream",
     "text": [
      "     Survived  Pclass     Sex   Age  Siblings/Spouses  Parents/Children  \\\n",
      "0           0       3    male  22.0                 1                 0   \n",
      "1           1       1  female  38.0                 1                 0   \n",
      "2           1       3  female  26.0                 0                 0   \n",
      "3           1       1  female  35.0                 1                 0   \n",
      "4           0       3    male  35.0                 0                 0   \n",
      "..        ...     ...     ...   ...               ...               ...   \n",
      "882         0       2    male  27.0                 0                 0   \n",
      "883         1       1  female  19.0                 0                 0   \n",
      "884         0       3  female   7.0                 1                 2   \n",
      "885         1       1    male  26.0                 0                 0   \n",
      "886         0       3    male  32.0                 0                 0   \n",
      "\n",
      "        Fare  \n",
      "0     7.2500  \n",
      "1    71.2833  \n",
      "2     7.9250  \n",
      "3    53.1000  \n",
      "4     8.0500  \n",
      "..       ...  \n",
      "882  13.0000  \n",
      "883  30.0000  \n",
      "884  23.4500  \n",
      "885  30.0000  \n",
      "886   7.7500  \n",
      "\n",
      "[887 rows x 7 columns]\n",
      "         Survived      Pclass         Age  Siblings/Spouses  Parents/Children  \\\n",
      "count  887.000000  887.000000  887.000000        887.000000        887.000000   \n",
      "mean     0.385569    2.305524   29.471443          0.525366          0.383315   \n",
      "std      0.487004    0.836662   14.121908          1.104669          0.807466   \n",
      "min      0.000000    1.000000    0.420000          0.000000          0.000000   \n",
      "25%      0.000000    2.000000   20.250000          0.000000          0.000000   \n",
      "50%      0.000000    3.000000   28.000000          0.000000          0.000000   \n",
      "75%      1.000000    3.000000   38.000000          1.000000          0.000000   \n",
      "max      1.000000    3.000000   80.000000          8.000000          6.000000   \n",
      "\n",
      "            Fare  \n",
      "count  887.00000  \n",
      "mean    32.30542  \n",
      "std     49.78204  \n",
      "min      0.00000  \n",
      "25%      7.92500  \n",
      "50%     14.45420  \n",
      "75%     31.13750  \n",
      "max    512.32920  \n"
     ]
    }
   ],
   "source": [
    "import pandas as pd\n",
    "import numpy as np\n",
    "df=pd.read_csv(\"https://sololearn.com/uploads/files/titanic.csv\")\n",
    "\n",
    "print(df)\n",
    "print(df.describe())"
   ]
  },
  {
   "cell_type": "code",
   "execution_count": 5,
   "metadata": {},
   "outputs": [
    {
     "name": "stdout",
     "output_type": "stream",
     "text": [
      "   Survived  Pclass     Sex   Age  Siblings/Spouses  Parents/Children     Fare\n",
      "0         0       3    male  22.0                 1                 0   7.2500\n",
      "1         1       1  female  38.0                 1                 0  71.2833\n",
      "2         1       3  female  26.0                 0                 0   7.9250\n",
      "3         1       1  female  35.0                 1                 0  53.1000\n",
      "4         0       3    male  35.0                 0                 0   8.0500\n"
     ]
    }
   ],
   "source": [
    "print(df.head())"
   ]
  },
  {
   "cell_type": "code",
   "execution_count": 6,
   "metadata": {},
   "outputs": [
    {
     "name": "stdout",
     "output_type": "stream",
     "text": [
      "   Survived  Pclass     Sex   Age  Siblings/Spouses  Parents/Children     Fare\n",
      "0         0       3    male  22.0                 1                 0   7.2500\n",
      "1         1       1  female  38.0                 1                 0  71.2833\n",
      "2         1       3  female  26.0                 0                 0   7.9250\n",
      "3         1       1  female  35.0                 1                 0  53.1000\n",
      "4         0       3    male  35.0                 0                 0   8.0500\n",
      "5         0       3    male  27.0                 0                 0   8.4583\n",
      "6         0       1    male  54.0                 0                 0  51.8625\n",
      "7         0       3    male   2.0                 3                 1  21.0750\n",
      "8         1       3  female  27.0                 0                 2  11.1333\n",
      "9         1       2  female  14.0                 1                 0  30.0708\n"
     ]
    }
   ],
   "source": [
    "print(df.head(n=10))"
   ]
  },
  {
   "cell_type": "code",
   "execution_count": 7,
   "metadata": {},
   "outputs": [],
   "source": [
    "df[\"male\"]=df[\"Sex\"]==\"male\""
   ]
  },
  {
   "cell_type": "code",
   "execution_count": 8,
   "metadata": {},
   "outputs": [
    {
     "data": {
      "text/html": [
       "<div>\n",
       "<style scoped>\n",
       "    .dataframe tbody tr th:only-of-type {\n",
       "        vertical-align: middle;\n",
       "    }\n",
       "\n",
       "    .dataframe tbody tr th {\n",
       "        vertical-align: top;\n",
       "    }\n",
       "\n",
       "    .dataframe thead th {\n",
       "        text-align: right;\n",
       "    }\n",
       "</style>\n",
       "<table border=\"1\" class=\"dataframe\">\n",
       "  <thead>\n",
       "    <tr style=\"text-align: right;\">\n",
       "      <th></th>\n",
       "      <th>Survived</th>\n",
       "      <th>Pclass</th>\n",
       "      <th>Sex</th>\n",
       "      <th>Age</th>\n",
       "      <th>Siblings/Spouses</th>\n",
       "      <th>Parents/Children</th>\n",
       "      <th>Fare</th>\n",
       "      <th>male</th>\n",
       "    </tr>\n",
       "  </thead>\n",
       "  <tbody>\n",
       "    <tr>\n",
       "      <th>0</th>\n",
       "      <td>0</td>\n",
       "      <td>3</td>\n",
       "      <td>male</td>\n",
       "      <td>22.0</td>\n",
       "      <td>1</td>\n",
       "      <td>0</td>\n",
       "      <td>7.2500</td>\n",
       "      <td>True</td>\n",
       "    </tr>\n",
       "    <tr>\n",
       "      <th>1</th>\n",
       "      <td>1</td>\n",
       "      <td>1</td>\n",
       "      <td>female</td>\n",
       "      <td>38.0</td>\n",
       "      <td>1</td>\n",
       "      <td>0</td>\n",
       "      <td>71.2833</td>\n",
       "      <td>False</td>\n",
       "    </tr>\n",
       "    <tr>\n",
       "      <th>2</th>\n",
       "      <td>1</td>\n",
       "      <td>3</td>\n",
       "      <td>female</td>\n",
       "      <td>26.0</td>\n",
       "      <td>0</td>\n",
       "      <td>0</td>\n",
       "      <td>7.9250</td>\n",
       "      <td>False</td>\n",
       "    </tr>\n",
       "    <tr>\n",
       "      <th>3</th>\n",
       "      <td>1</td>\n",
       "      <td>1</td>\n",
       "      <td>female</td>\n",
       "      <td>35.0</td>\n",
       "      <td>1</td>\n",
       "      <td>0</td>\n",
       "      <td>53.1000</td>\n",
       "      <td>False</td>\n",
       "    </tr>\n",
       "    <tr>\n",
       "      <th>4</th>\n",
       "      <td>0</td>\n",
       "      <td>3</td>\n",
       "      <td>male</td>\n",
       "      <td>35.0</td>\n",
       "      <td>0</td>\n",
       "      <td>0</td>\n",
       "      <td>8.0500</td>\n",
       "      <td>True</td>\n",
       "    </tr>\n",
       "  </tbody>\n",
       "</table>\n",
       "</div>"
      ],
      "text/plain": [
       "   Survived  Pclass     Sex   Age  Siblings/Spouses  Parents/Children  \\\n",
       "0         0       3    male  22.0                 1                 0   \n",
       "1         1       1  female  38.0                 1                 0   \n",
       "2         1       3  female  26.0                 0                 0   \n",
       "3         1       1  female  35.0                 1                 0   \n",
       "4         0       3    male  35.0                 0                 0   \n",
       "\n",
       "      Fare   male  \n",
       "0   7.2500   True  \n",
       "1  71.2833  False  \n",
       "2   7.9250  False  \n",
       "3  53.1000  False  \n",
       "4   8.0500   True  "
      ]
     },
     "execution_count": 8,
     "metadata": {},
     "output_type": "execute_result"
    }
   ],
   "source": [
    "df.head()"
   ]
  },
  {
   "cell_type": "code",
   "execution_count": 9,
   "metadata": {},
   "outputs": [
    {
     "data": {
      "text/plain": [
       "0       7.2500\n",
       "1      71.2833\n",
       "2       7.9250\n",
       "3      53.1000\n",
       "4       8.0500\n",
       "        ...   \n",
       "882    13.0000\n",
       "883    30.0000\n",
       "884    23.4500\n",
       "885    30.0000\n",
       "886     7.7500\n",
       "Name: Fare, Length: 887, dtype: float64"
      ]
     },
     "execution_count": 9,
     "metadata": {},
     "output_type": "execute_result"
    }
   ],
   "source": [
    "col=df[\"Fare\"]\n",
    "col"
   ]
  },
  {
   "cell_type": "code",
   "execution_count": 10,
   "metadata": {},
   "outputs": [
    {
     "name": "stdout",
     "output_type": "stream",
     "text": [
      "32.30542018038328\n"
     ]
    }
   ],
   "source": [
    "col=df[\"Fare\"]\n",
    "col\n",
    "print(np.mean(col))"
   ]
  },
  {
   "cell_type": "code",
   "execution_count": 11,
   "metadata": {},
   "outputs": [
    {
     "name": "stdout",
     "output_type": "stream",
     "text": [
      "32.30542018038328\n"
     ]
    }
   ],
   "source": [
    "import numpy as np\n",
    "print(np.mean(col))\n"
   ]
  },
  {
   "cell_type": "code",
   "execution_count": 12,
   "metadata": {},
   "outputs": [],
   "source": [
    "col1=df[[\"Age\",\"Fare\"]]"
   ]
  },
  {
   "cell_type": "code",
   "execution_count": 13,
   "metadata": {},
   "outputs": [
    {
     "data": {
      "text/html": [
       "<div>\n",
       "<style scoped>\n",
       "    .dataframe tbody tr th:only-of-type {\n",
       "        vertical-align: middle;\n",
       "    }\n",
       "\n",
       "    .dataframe tbody tr th {\n",
       "        vertical-align: top;\n",
       "    }\n",
       "\n",
       "    .dataframe thead th {\n",
       "        text-align: right;\n",
       "    }\n",
       "</style>\n",
       "<table border=\"1\" class=\"dataframe\">\n",
       "  <thead>\n",
       "    <tr style=\"text-align: right;\">\n",
       "      <th></th>\n",
       "      <th>Age</th>\n",
       "      <th>Fare</th>\n",
       "    </tr>\n",
       "  </thead>\n",
       "  <tbody>\n",
       "    <tr>\n",
       "      <th>0</th>\n",
       "      <td>22.0</td>\n",
       "      <td>7.2500</td>\n",
       "    </tr>\n",
       "    <tr>\n",
       "      <th>1</th>\n",
       "      <td>38.0</td>\n",
       "      <td>71.2833</td>\n",
       "    </tr>\n",
       "    <tr>\n",
       "      <th>2</th>\n",
       "      <td>26.0</td>\n",
       "      <td>7.9250</td>\n",
       "    </tr>\n",
       "    <tr>\n",
       "      <th>3</th>\n",
       "      <td>35.0</td>\n",
       "      <td>53.1000</td>\n",
       "    </tr>\n",
       "    <tr>\n",
       "      <th>4</th>\n",
       "      <td>35.0</td>\n",
       "      <td>8.0500</td>\n",
       "    </tr>\n",
       "    <tr>\n",
       "      <th>...</th>\n",
       "      <td>...</td>\n",
       "      <td>...</td>\n",
       "    </tr>\n",
       "    <tr>\n",
       "      <th>882</th>\n",
       "      <td>27.0</td>\n",
       "      <td>13.0000</td>\n",
       "    </tr>\n",
       "    <tr>\n",
       "      <th>883</th>\n",
       "      <td>19.0</td>\n",
       "      <td>30.0000</td>\n",
       "    </tr>\n",
       "    <tr>\n",
       "      <th>884</th>\n",
       "      <td>7.0</td>\n",
       "      <td>23.4500</td>\n",
       "    </tr>\n",
       "    <tr>\n",
       "      <th>885</th>\n",
       "      <td>26.0</td>\n",
       "      <td>30.0000</td>\n",
       "    </tr>\n",
       "    <tr>\n",
       "      <th>886</th>\n",
       "      <td>32.0</td>\n",
       "      <td>7.7500</td>\n",
       "    </tr>\n",
       "  </tbody>\n",
       "</table>\n",
       "<p>887 rows × 2 columns</p>\n",
       "</div>"
      ],
      "text/plain": [
       "      Age     Fare\n",
       "0    22.0   7.2500\n",
       "1    38.0  71.2833\n",
       "2    26.0   7.9250\n",
       "3    35.0  53.1000\n",
       "4    35.0   8.0500\n",
       "..    ...      ...\n",
       "882  27.0  13.0000\n",
       "883  19.0  30.0000\n",
       "884   7.0  23.4500\n",
       "885  26.0  30.0000\n",
       "886  32.0   7.7500\n",
       "\n",
       "[887 rows x 2 columns]"
      ]
     },
     "execution_count": 13,
     "metadata": {},
     "output_type": "execute_result"
    }
   ],
   "source": [
    "col1"
   ]
  },
  {
   "cell_type": "code",
   "execution_count": 14,
   "metadata": {},
   "outputs": [
    {
     "name": "stdout",
     "output_type": "stream",
     "text": [
      "Age     29.471443\n",
      "Fare    32.305420\n",
      "dtype: float64\n"
     ]
    }
   ],
   "source": [
    "print(np.mean(col1))"
   ]
  },
  {
   "cell_type": "code",
   "execution_count": 15,
   "metadata": {},
   "outputs": [
    {
     "name": "stdout",
     "output_type": "stream",
     "text": [
      "7.925\n"
     ]
    }
   ],
   "source": [
    "print(np.percentile(col,25))"
   ]
  },
  {
   "cell_type": "code",
   "execution_count": 16,
   "metadata": {},
   "outputs": [
    {
     "data": {
      "text/html": [
       "<div>\n",
       "<style scoped>\n",
       "    .dataframe tbody tr th:only-of-type {\n",
       "        vertical-align: middle;\n",
       "    }\n",
       "\n",
       "    .dataframe tbody tr th {\n",
       "        vertical-align: top;\n",
       "    }\n",
       "\n",
       "    .dataframe thead th {\n",
       "        text-align: right;\n",
       "    }\n",
       "</style>\n",
       "<table border=\"1\" class=\"dataframe\">\n",
       "  <thead>\n",
       "    <tr style=\"text-align: right;\">\n",
       "      <th></th>\n",
       "      <th>Survived</th>\n",
       "      <th>Pclass</th>\n",
       "      <th>Sex</th>\n",
       "      <th>Age</th>\n",
       "      <th>Siblings/Spouses</th>\n",
       "      <th>Parents/Children</th>\n",
       "      <th>Fare</th>\n",
       "      <th>male</th>\n",
       "    </tr>\n",
       "  </thead>\n",
       "  <tbody>\n",
       "    <tr>\n",
       "      <th>0</th>\n",
       "      <td>0</td>\n",
       "      <td>3</td>\n",
       "      <td>male</td>\n",
       "      <td>22.0</td>\n",
       "      <td>1</td>\n",
       "      <td>0</td>\n",
       "      <td>7.2500</td>\n",
       "      <td>True</td>\n",
       "    </tr>\n",
       "    <tr>\n",
       "      <th>1</th>\n",
       "      <td>1</td>\n",
       "      <td>1</td>\n",
       "      <td>female</td>\n",
       "      <td>38.0</td>\n",
       "      <td>1</td>\n",
       "      <td>0</td>\n",
       "      <td>71.2833</td>\n",
       "      <td>False</td>\n",
       "    </tr>\n",
       "    <tr>\n",
       "      <th>2</th>\n",
       "      <td>1</td>\n",
       "      <td>3</td>\n",
       "      <td>female</td>\n",
       "      <td>26.0</td>\n",
       "      <td>0</td>\n",
       "      <td>0</td>\n",
       "      <td>7.9250</td>\n",
       "      <td>False</td>\n",
       "    </tr>\n",
       "    <tr>\n",
       "      <th>3</th>\n",
       "      <td>1</td>\n",
       "      <td>1</td>\n",
       "      <td>female</td>\n",
       "      <td>35.0</td>\n",
       "      <td>1</td>\n",
       "      <td>0</td>\n",
       "      <td>53.1000</td>\n",
       "      <td>False</td>\n",
       "    </tr>\n",
       "    <tr>\n",
       "      <th>4</th>\n",
       "      <td>0</td>\n",
       "      <td>3</td>\n",
       "      <td>male</td>\n",
       "      <td>35.0</td>\n",
       "      <td>0</td>\n",
       "      <td>0</td>\n",
       "      <td>8.0500</td>\n",
       "      <td>True</td>\n",
       "    </tr>\n",
       "    <tr>\n",
       "      <th>...</th>\n",
       "      <td>...</td>\n",
       "      <td>...</td>\n",
       "      <td>...</td>\n",
       "      <td>...</td>\n",
       "      <td>...</td>\n",
       "      <td>...</td>\n",
       "      <td>...</td>\n",
       "      <td>...</td>\n",
       "    </tr>\n",
       "    <tr>\n",
       "      <th>882</th>\n",
       "      <td>0</td>\n",
       "      <td>2</td>\n",
       "      <td>male</td>\n",
       "      <td>27.0</td>\n",
       "      <td>0</td>\n",
       "      <td>0</td>\n",
       "      <td>13.0000</td>\n",
       "      <td>True</td>\n",
       "    </tr>\n",
       "    <tr>\n",
       "      <th>883</th>\n",
       "      <td>1</td>\n",
       "      <td>1</td>\n",
       "      <td>female</td>\n",
       "      <td>19.0</td>\n",
       "      <td>0</td>\n",
       "      <td>0</td>\n",
       "      <td>30.0000</td>\n",
       "      <td>False</td>\n",
       "    </tr>\n",
       "    <tr>\n",
       "      <th>884</th>\n",
       "      <td>0</td>\n",
       "      <td>3</td>\n",
       "      <td>female</td>\n",
       "      <td>7.0</td>\n",
       "      <td>1</td>\n",
       "      <td>2</td>\n",
       "      <td>23.4500</td>\n",
       "      <td>False</td>\n",
       "    </tr>\n",
       "    <tr>\n",
       "      <th>885</th>\n",
       "      <td>1</td>\n",
       "      <td>1</td>\n",
       "      <td>male</td>\n",
       "      <td>26.0</td>\n",
       "      <td>0</td>\n",
       "      <td>0</td>\n",
       "      <td>30.0000</td>\n",
       "      <td>True</td>\n",
       "    </tr>\n",
       "    <tr>\n",
       "      <th>886</th>\n",
       "      <td>0</td>\n",
       "      <td>3</td>\n",
       "      <td>male</td>\n",
       "      <td>32.0</td>\n",
       "      <td>0</td>\n",
       "      <td>0</td>\n",
       "      <td>7.7500</td>\n",
       "      <td>True</td>\n",
       "    </tr>\n",
       "  </tbody>\n",
       "</table>\n",
       "<p>887 rows × 8 columns</p>\n",
       "</div>"
      ],
      "text/plain": [
       "     Survived  Pclass     Sex   Age  Siblings/Spouses  Parents/Children  \\\n",
       "0           0       3    male  22.0                 1                 0   \n",
       "1           1       1  female  38.0                 1                 0   \n",
       "2           1       3  female  26.0                 0                 0   \n",
       "3           1       1  female  35.0                 1                 0   \n",
       "4           0       3    male  35.0                 0                 0   \n",
       "..        ...     ...     ...   ...               ...               ...   \n",
       "882         0       2    male  27.0                 0                 0   \n",
       "883         1       1  female  19.0                 0                 0   \n",
       "884         0       3  female   7.0                 1                 2   \n",
       "885         1       1    male  26.0                 0                 0   \n",
       "886         0       3    male  32.0                 0                 0   \n",
       "\n",
       "        Fare   male  \n",
       "0     7.2500   True  \n",
       "1    71.2833  False  \n",
       "2     7.9250  False  \n",
       "3    53.1000  False  \n",
       "4     8.0500   True  \n",
       "..       ...    ...  \n",
       "882  13.0000   True  \n",
       "883  30.0000  False  \n",
       "884  23.4500  False  \n",
       "885  30.0000   True  \n",
       "886   7.7500   True  \n",
       "\n",
       "[887 rows x 8 columns]"
      ]
     },
     "execution_count": 16,
     "metadata": {},
     "output_type": "execute_result"
    }
   ],
   "source": [
    "df"
   ]
  },
  {
   "cell_type": "code",
   "execution_count": 17,
   "metadata": {},
   "outputs": [
    {
     "name": "stdout",
     "output_type": "stream",
     "text": [
      "[ 7.25   71.2833  7.925  53.1     8.05    8.4583 51.8625 21.075  11.1333\n",
      " 30.0708 16.7   ]\n"
     ]
    }
   ],
   "source": [
    "print(df[\"Fare\"].values[:11])"
   ]
  },
  {
   "cell_type": "code",
   "execution_count": 18,
   "metadata": {},
   "outputs": [
    {
     "name": "stdout",
     "output_type": "stream",
     "text": [
      "(887, 8)\n"
     ]
    }
   ],
   "source": [
    "print(df.shape)"
   ]
  },
  {
   "cell_type": "code",
   "execution_count": 19,
   "metadata": {},
   "outputs": [
    {
     "data": {
      "text/html": [
       "<div>\n",
       "<style scoped>\n",
       "    .dataframe tbody tr th:only-of-type {\n",
       "        vertical-align: middle;\n",
       "    }\n",
       "\n",
       "    .dataframe tbody tr th {\n",
       "        vertical-align: top;\n",
       "    }\n",
       "\n",
       "    .dataframe thead th {\n",
       "        text-align: right;\n",
       "    }\n",
       "</style>\n",
       "<table border=\"1\" class=\"dataframe\">\n",
       "  <thead>\n",
       "    <tr style=\"text-align: right;\">\n",
       "      <th></th>\n",
       "      <th>Survived</th>\n",
       "      <th>Pclass</th>\n",
       "      <th>Sex</th>\n",
       "      <th>Age</th>\n",
       "      <th>Siblings/Spouses</th>\n",
       "      <th>Parents/Children</th>\n",
       "      <th>Fare</th>\n",
       "      <th>male</th>\n",
       "    </tr>\n",
       "  </thead>\n",
       "  <tbody>\n",
       "    <tr>\n",
       "      <th>0</th>\n",
       "      <td>0</td>\n",
       "      <td>3</td>\n",
       "      <td>male</td>\n",
       "      <td>22.0</td>\n",
       "      <td>1</td>\n",
       "      <td>0</td>\n",
       "      <td>7.2500</td>\n",
       "      <td>True</td>\n",
       "    </tr>\n",
       "    <tr>\n",
       "      <th>1</th>\n",
       "      <td>1</td>\n",
       "      <td>1</td>\n",
       "      <td>female</td>\n",
       "      <td>38.0</td>\n",
       "      <td>1</td>\n",
       "      <td>0</td>\n",
       "      <td>71.2833</td>\n",
       "      <td>False</td>\n",
       "    </tr>\n",
       "    <tr>\n",
       "      <th>2</th>\n",
       "      <td>1</td>\n",
       "      <td>3</td>\n",
       "      <td>female</td>\n",
       "      <td>26.0</td>\n",
       "      <td>0</td>\n",
       "      <td>0</td>\n",
       "      <td>7.9250</td>\n",
       "      <td>False</td>\n",
       "    </tr>\n",
       "    <tr>\n",
       "      <th>3</th>\n",
       "      <td>1</td>\n",
       "      <td>1</td>\n",
       "      <td>female</td>\n",
       "      <td>35.0</td>\n",
       "      <td>1</td>\n",
       "      <td>0</td>\n",
       "      <td>53.1000</td>\n",
       "      <td>False</td>\n",
       "    </tr>\n",
       "    <tr>\n",
       "      <th>4</th>\n",
       "      <td>0</td>\n",
       "      <td>3</td>\n",
       "      <td>male</td>\n",
       "      <td>35.0</td>\n",
       "      <td>0</td>\n",
       "      <td>0</td>\n",
       "      <td>8.0500</td>\n",
       "      <td>True</td>\n",
       "    </tr>\n",
       "    <tr>\n",
       "      <th>...</th>\n",
       "      <td>...</td>\n",
       "      <td>...</td>\n",
       "      <td>...</td>\n",
       "      <td>...</td>\n",
       "      <td>...</td>\n",
       "      <td>...</td>\n",
       "      <td>...</td>\n",
       "      <td>...</td>\n",
       "    </tr>\n",
       "    <tr>\n",
       "      <th>882</th>\n",
       "      <td>0</td>\n",
       "      <td>2</td>\n",
       "      <td>male</td>\n",
       "      <td>27.0</td>\n",
       "      <td>0</td>\n",
       "      <td>0</td>\n",
       "      <td>13.0000</td>\n",
       "      <td>True</td>\n",
       "    </tr>\n",
       "    <tr>\n",
       "      <th>883</th>\n",
       "      <td>1</td>\n",
       "      <td>1</td>\n",
       "      <td>female</td>\n",
       "      <td>19.0</td>\n",
       "      <td>0</td>\n",
       "      <td>0</td>\n",
       "      <td>30.0000</td>\n",
       "      <td>False</td>\n",
       "    </tr>\n",
       "    <tr>\n",
       "      <th>884</th>\n",
       "      <td>0</td>\n",
       "      <td>3</td>\n",
       "      <td>female</td>\n",
       "      <td>7.0</td>\n",
       "      <td>1</td>\n",
       "      <td>2</td>\n",
       "      <td>23.4500</td>\n",
       "      <td>False</td>\n",
       "    </tr>\n",
       "    <tr>\n",
       "      <th>885</th>\n",
       "      <td>1</td>\n",
       "      <td>1</td>\n",
       "      <td>male</td>\n",
       "      <td>26.0</td>\n",
       "      <td>0</td>\n",
       "      <td>0</td>\n",
       "      <td>30.0000</td>\n",
       "      <td>True</td>\n",
       "    </tr>\n",
       "    <tr>\n",
       "      <th>886</th>\n",
       "      <td>0</td>\n",
       "      <td>3</td>\n",
       "      <td>male</td>\n",
       "      <td>32.0</td>\n",
       "      <td>0</td>\n",
       "      <td>0</td>\n",
       "      <td>7.7500</td>\n",
       "      <td>True</td>\n",
       "    </tr>\n",
       "  </tbody>\n",
       "</table>\n",
       "<p>887 rows × 8 columns</p>\n",
       "</div>"
      ],
      "text/plain": [
       "     Survived  Pclass     Sex   Age  Siblings/Spouses  Parents/Children  \\\n",
       "0           0       3    male  22.0                 1                 0   \n",
       "1           1       1  female  38.0                 1                 0   \n",
       "2           1       3  female  26.0                 0                 0   \n",
       "3           1       1  female  35.0                 1                 0   \n",
       "4           0       3    male  35.0                 0                 0   \n",
       "..        ...     ...     ...   ...               ...               ...   \n",
       "882         0       2    male  27.0                 0                 0   \n",
       "883         1       1  female  19.0                 0                 0   \n",
       "884         0       3  female   7.0                 1                 2   \n",
       "885         1       1    male  26.0                 0                 0   \n",
       "886         0       3    male  32.0                 0                 0   \n",
       "\n",
       "        Fare   male  \n",
       "0     7.2500   True  \n",
       "1    71.2833  False  \n",
       "2     7.9250  False  \n",
       "3    53.1000  False  \n",
       "4     8.0500   True  \n",
       "..       ...    ...  \n",
       "882  13.0000   True  \n",
       "883  30.0000  False  \n",
       "884  23.4500  False  \n",
       "885  30.0000   True  \n",
       "886   7.7500   True  \n",
       "\n",
       "[887 rows x 8 columns]"
      ]
     },
     "execution_count": 19,
     "metadata": {},
     "output_type": "execute_result"
    }
   ],
   "source": [
    "df"
   ]
  },
  {
   "cell_type": "code",
   "execution_count": 20,
   "metadata": {},
   "outputs": [],
   "source": [
    "df[\"male\"]=df[\"Sex\"]==\"male\""
   ]
  },
  {
   "cell_type": "code",
   "execution_count": 21,
   "metadata": {},
   "outputs": [
    {
     "data": {
      "text/html": [
       "<div>\n",
       "<style scoped>\n",
       "    .dataframe tbody tr th:only-of-type {\n",
       "        vertical-align: middle;\n",
       "    }\n",
       "\n",
       "    .dataframe tbody tr th {\n",
       "        vertical-align: top;\n",
       "    }\n",
       "\n",
       "    .dataframe thead th {\n",
       "        text-align: right;\n",
       "    }\n",
       "</style>\n",
       "<table border=\"1\" class=\"dataframe\">\n",
       "  <thead>\n",
       "    <tr style=\"text-align: right;\">\n",
       "      <th></th>\n",
       "      <th>Survived</th>\n",
       "      <th>Pclass</th>\n",
       "      <th>Sex</th>\n",
       "      <th>Age</th>\n",
       "      <th>Siblings/Spouses</th>\n",
       "      <th>Parents/Children</th>\n",
       "      <th>Fare</th>\n",
       "    </tr>\n",
       "  </thead>\n",
       "  <tbody>\n",
       "    <tr>\n",
       "      <th>0</th>\n",
       "      <td>0</td>\n",
       "      <td>3</td>\n",
       "      <td>male</td>\n",
       "      <td>22.0</td>\n",
       "      <td>1</td>\n",
       "      <td>0</td>\n",
       "      <td>7.2500</td>\n",
       "    </tr>\n",
       "    <tr>\n",
       "      <th>1</th>\n",
       "      <td>1</td>\n",
       "      <td>1</td>\n",
       "      <td>female</td>\n",
       "      <td>38.0</td>\n",
       "      <td>1</td>\n",
       "      <td>0</td>\n",
       "      <td>71.2833</td>\n",
       "    </tr>\n",
       "    <tr>\n",
       "      <th>2</th>\n",
       "      <td>1</td>\n",
       "      <td>3</td>\n",
       "      <td>female</td>\n",
       "      <td>26.0</td>\n",
       "      <td>0</td>\n",
       "      <td>0</td>\n",
       "      <td>7.9250</td>\n",
       "    </tr>\n",
       "    <tr>\n",
       "      <th>3</th>\n",
       "      <td>1</td>\n",
       "      <td>1</td>\n",
       "      <td>female</td>\n",
       "      <td>35.0</td>\n",
       "      <td>1</td>\n",
       "      <td>0</td>\n",
       "      <td>53.1000</td>\n",
       "    </tr>\n",
       "    <tr>\n",
       "      <th>4</th>\n",
       "      <td>0</td>\n",
       "      <td>3</td>\n",
       "      <td>male</td>\n",
       "      <td>35.0</td>\n",
       "      <td>0</td>\n",
       "      <td>0</td>\n",
       "      <td>8.0500</td>\n",
       "    </tr>\n",
       "    <tr>\n",
       "      <th>...</th>\n",
       "      <td>...</td>\n",
       "      <td>...</td>\n",
       "      <td>...</td>\n",
       "      <td>...</td>\n",
       "      <td>...</td>\n",
       "      <td>...</td>\n",
       "      <td>...</td>\n",
       "    </tr>\n",
       "    <tr>\n",
       "      <th>882</th>\n",
       "      <td>0</td>\n",
       "      <td>2</td>\n",
       "      <td>male</td>\n",
       "      <td>27.0</td>\n",
       "      <td>0</td>\n",
       "      <td>0</td>\n",
       "      <td>13.0000</td>\n",
       "    </tr>\n",
       "    <tr>\n",
       "      <th>883</th>\n",
       "      <td>1</td>\n",
       "      <td>1</td>\n",
       "      <td>female</td>\n",
       "      <td>19.0</td>\n",
       "      <td>0</td>\n",
       "      <td>0</td>\n",
       "      <td>30.0000</td>\n",
       "    </tr>\n",
       "    <tr>\n",
       "      <th>884</th>\n",
       "      <td>0</td>\n",
       "      <td>3</td>\n",
       "      <td>female</td>\n",
       "      <td>7.0</td>\n",
       "      <td>1</td>\n",
       "      <td>2</td>\n",
       "      <td>23.4500</td>\n",
       "    </tr>\n",
       "    <tr>\n",
       "      <th>885</th>\n",
       "      <td>1</td>\n",
       "      <td>1</td>\n",
       "      <td>male</td>\n",
       "      <td>26.0</td>\n",
       "      <td>0</td>\n",
       "      <td>0</td>\n",
       "      <td>30.0000</td>\n",
       "    </tr>\n",
       "    <tr>\n",
       "      <th>886</th>\n",
       "      <td>0</td>\n",
       "      <td>3</td>\n",
       "      <td>male</td>\n",
       "      <td>32.0</td>\n",
       "      <td>0</td>\n",
       "      <td>0</td>\n",
       "      <td>7.7500</td>\n",
       "    </tr>\n",
       "  </tbody>\n",
       "</table>\n",
       "<p>887 rows × 7 columns</p>\n",
       "</div>"
      ],
      "text/plain": [
       "     Survived  Pclass     Sex   Age  Siblings/Spouses  Parents/Children  \\\n",
       "0           0       3    male  22.0                 1                 0   \n",
       "1           1       1  female  38.0                 1                 0   \n",
       "2           1       3  female  26.0                 0                 0   \n",
       "3           1       1  female  35.0                 1                 0   \n",
       "4           0       3    male  35.0                 0                 0   \n",
       "..        ...     ...     ...   ...               ...               ...   \n",
       "882         0       2    male  27.0                 0                 0   \n",
       "883         1       1  female  19.0                 0                 0   \n",
       "884         0       3  female   7.0                 1                 2   \n",
       "885         1       1    male  26.0                 0                 0   \n",
       "886         0       3    male  32.0                 0                 0   \n",
       "\n",
       "        Fare  \n",
       "0     7.2500  \n",
       "1    71.2833  \n",
       "2     7.9250  \n",
       "3    53.1000  \n",
       "4     8.0500  \n",
       "..       ...  \n",
       "882  13.0000  \n",
       "883  30.0000  \n",
       "884  23.4500  \n",
       "885  30.0000  \n",
       "886   7.7500  \n",
       "\n",
       "[887 rows x 7 columns]"
      ]
     },
     "execution_count": 21,
     "metadata": {},
     "output_type": "execute_result"
    }
   ],
   "source": [
    "del(df[\"male\"])\n",
    "df"
   ]
  },
  {
   "cell_type": "code",
   "execution_count": 22,
   "metadata": {},
   "outputs": [
    {
     "data": {
      "text/plain": [
       "array([[ 3.    ,  7.25  , 22.    ],\n",
       "       [ 1.    , 71.2833, 38.    ],\n",
       "       [ 3.    ,  7.925 , 26.    ],\n",
       "       ...,\n",
       "       [ 3.    , 23.45  ,  7.    ],\n",
       "       [ 1.    , 30.    , 26.    ],\n",
       "       [ 3.    ,  7.75  , 32.    ]])"
      ]
     },
     "execution_count": 22,
     "metadata": {},
     "output_type": "execute_result"
    }
   ],
   "source": [
    "arr=df[[\"Pclass\",\"Fare\",\"Age\"]].values\n",
    "arr"
   ]
  },
  {
   "cell_type": "code",
   "execution_count": 23,
   "metadata": {},
   "outputs": [
    {
     "data": {
      "text/plain": [
       "array([[ 3.    ,  7.25  , 22.    ],\n",
       "       [ 1.    , 71.2833, 38.    ],\n",
       "       [ 3.    ,  7.925 , 26.    ],\n",
       "       ...,\n",
       "       [ 3.    , 23.45  ,  7.    ],\n",
       "       [ 1.    , 30.    , 26.    ],\n",
       "       [ 3.    ,  7.75  , 32.    ]])"
      ]
     },
     "execution_count": 23,
     "metadata": {},
     "output_type": "execute_result"
    }
   ],
   "source": [
    "arr"
   ]
  },
  {
   "cell_type": "code",
   "execution_count": 24,
   "metadata": {},
   "outputs": [
    {
     "name": "stdout",
     "output_type": "stream",
     "text": [
      "7.25\n"
     ]
    }
   ],
   "source": [
    "print(arr[0,1])"
   ]
  },
  {
   "cell_type": "code",
   "execution_count": 25,
   "metadata": {},
   "outputs": [
    {
     "name": "stdout",
     "output_type": "stream",
     "text": [
      "[ 3.    7.25 22.  ]\n"
     ]
    }
   ],
   "source": [
    "print(arr[0])"
   ]
  },
  {
   "cell_type": "code",
   "execution_count": 26,
   "metadata": {},
   "outputs": [
    {
     "name": "stdout",
     "output_type": "stream",
     "text": [
      "[22.   38.   26.   35.   35.   27.   54.    2.   27.   14.    4.   58.\n",
      " 20.   39.   14.   55.    2.   23.   31.   22.   35.   34.   15.   28.\n",
      "  8.   38.   26.   19.   24.   23.   40.   48.   18.   66.   28.   42.\n",
      " 18.   21.   18.   14.   40.   27.    3.   19.   30.   20.   27.   16.\n",
      " 18.    7.   21.   49.   29.   65.   46.   21.   28.5   5.   11.   22.\n",
      " 38.   45.    4.   64.    7.   29.   19.   17.   26.   32.   16.   21.\n",
      " 26.   32.   25.   23.   28.    0.83 30.   22.   29.   31.   28.   17.\n",
      " 33.   16.   20.   23.   24.   29.   20.   46.   26.   59.   22.   71.\n",
      " 23.   34.   34.   28.   29.   21.   33.   37.   28.   21.   29.   38.\n",
      " 28.   47.   14.5  22.   20.   17.   21.   70.5  29.   24.    2.   21.\n",
      " 19.   32.5  32.5  54.   12.   19.   24.    2.   45.   33.   20.   47.\n",
      " 29.   25.   23.   19.   37.   16.   24.   40.   22.   24.   19.   18.\n",
      " 19.   27.    9.   36.5  42.   51.   22.   55.5  40.5  27.   51.   16.\n",
      " 30.   37.    5.   44.   40.   26.   17.    1.    9.   48.   45.   60.\n",
      " 28.   61.    4.    1.   21.   56.   18.    5.   50.   30.   36.    8.\n",
      " 39.    9.    1.    4.   39.   26.   45.   40.   36.   32.   19.   19.\n",
      "  3.   44.   58.   28.   42.   21.   24.   28.   17.   34.   45.5  18.\n",
      "  2.   32.   26.   16.   40.   24.   35.   22.   30.   22.   31.   27.\n",
      " 42.   32.   30.   16.   27.   51.   22.   38.   22.   19.   20.5  18.\n",
      " 12.   35.   29.   59.    5.   24.   21.   44.    8.   19.   33.   19.\n",
      " 18.   29.   22.   30.   44.   25.   24.   37.   54.   18.   29.   62.\n",
      " 30.   41.   29.   38.   30.   35.   50.    3.   52.   40.   21.   36.\n",
      " 16.   25.   58.   35.   28.   25.   41.   37.   33.   63.   45.   21.\n",
      "  7.   35.   65.   28.   16.   19.   57.   33.   30.   22.   42.   22.\n",
      " 26.   19.   36.   24.   24.   30.   23.5   2.   47.   50.   20.   24.\n",
      " 19.   46.   28.    0.92 42.   17.   30.   30.   24.   18.   26.   28.\n",
      " 43.   26.   24.   54.   31.   40.   22.   27.   30.   22.   20.   36.\n",
      " 61.   36.   31.   16.   28.   45.5  38.   16.   42.   30.   29.   41.\n",
      " 45.   45.    2.   24.   28.   25.   36.   24.   40.   34.    3.   42.\n",
      " 23.   43.   15.   25.   23.   28.   22.   38.   22.   23.   40.   29.\n",
      " 45.   35.   27.   30.   60.   35.   22.   24.   25.   18.   19.   22.\n",
      "  3.   25.   22.   27.   20.   19.   42.    1.   32.   35.   27.   18.\n",
      "  1.   36.   19.   17.   36.   21.   28.   23.   24.   22.   31.   46.\n",
      " 23.   28.   39.   26.   21.   28.   20.   34.   51.    3.   21.    3.\n",
      " 42.   27.   33.   22.   44.   32.   34.   18.   30.   10.   21.   29.\n",
      " 28.   18.   54.   28.   19.   28.   32.   28.   33.   42.   17.   50.\n",
      " 14.   21.   24.   64.   31.   45.   20.   25.   28.   29.    4.   13.\n",
      " 34.    5.   52.   36.   28.   30.   49.   24.   29.   65.   41.   50.\n",
      " 17.   48.   34.   47.   48.   34.   38.   21.   56.   22.    0.75 39.\n",
      " 38.   33.   23.   22.   40.   34.   29.   22.    2.    9.   37.   50.\n",
      " 63.   25.    8.   35.   58.   30.    9.   19.   21.   55.   71.   21.\n",
      " 26.   54.   55.   25.   24.   17.   21.   21.   37.   16.   18.   33.\n",
      " 37.   28.   26.   29.   66.   36.   54.   24.   47.   34.   30.   36.\n",
      " 32.   30.   22.   35.   44.   18.   40.5  50.   49.   39.   23.    2.\n",
      " 17.   17.   24.   30.    7.   45.   30.   69.   22.   36.    9.   11.\n",
      " 32.   50.   64.   19.   27.   33.    8.   17.   27.   21.   22.   22.\n",
      " 62.   48.   45.   39.   36.   30.   40.   28.   40.   62.   24.   19.\n",
      " 29.   28.   32.   62.   53.   36.   22.   16.   19.   34.   39.   18.\n",
      " 32.   25.   39.   54.   36.   16.   18.   47.   60.   22.   22.   35.\n",
      " 52.   47.   40.   37.   36.   31.   49.   18.   49.   24.   42.   37.\n",
      " 44.   35.   36.   30.   27.   22.   40.   39.   21.   18.   22.   35.\n",
      " 24.   34.   26.    4.   26.   27.   42.   20.   21.   21.   61.   57.\n",
      " 21.   26.   18.   80.   51.   32.   30.    9.   28.   32.   31.   41.\n",
      " 37.   20.   24.    2.   32.    0.75 48.   19.   56.   21.   23.   23.\n",
      " 18.   21.   16.   18.   24.   27.   32.   23.   58.   50.   40.   47.\n",
      " 36.   20.   32.   25.   49.   43.   48.   40.   31.   70.   31.   19.\n",
      " 18.   24.5  18.   43.   36.   28.   27.   20.   14.   60.   25.   14.\n",
      " 19.   18.   15.   31.    4.   37.   25.   60.   52.   44.   19.   49.\n",
      " 42.   18.   35.   18.   25.   26.   39.   45.   42.   22.    4.   24.\n",
      " 41.   48.   29.   52.   19.   38.   27.   33.    6.   17.   34.   50.\n",
      " 27.   20.   30.   28.   25.   25.   29.   11.   41.   23.   23.   28.5\n",
      " 48.   35.   20.   32.   45.   36.   21.   24.   31.   70.   16.   30.\n",
      " 19.   31.    4.    6.   33.   23.   48.    0.67 28.   18.   34.   33.\n",
      " 23.   41.   20.   36.   16.   51.   46.   30.5  28.   32.   24.   48.\n",
      " 57.   29.   54.   18.   20.    5.   22.   43.   13.   17.   29.   35.\n",
      " 25.   25.   18.    8.    1.   46.   20.   16.   21.   43.   25.   39.\n",
      " 49.   31.   30.   30.   34.   31.   11.    0.42 27.   31.   39.   18.\n",
      " 39.   33.   26.   39.   35.    6.   30.5  39.   23.   31.   43.   10.\n",
      " 52.   27.   38.   27.    2.   36.   23.    1.   19.   62.   15.    0.83\n",
      " 30.   23.   18.   39.   21.   20.   32.   29.   20.   16.   30.   34.5\n",
      " 17.   42.   18.   35.   28.   40.    4.   74.    9.   16.   44.   18.\n",
      " 45.   51.   24.   30.   41.   21.   48.   14.   24.   42.   27.   31.\n",
      " 23.    4.   26.   47.   33.   47.   28.   15.   20.   19.   23.   56.\n",
      " 25.   33.   22.   28.   25.   39.   27.   19.    7.   26.   32.  ]\n"
     ]
    }
   ],
   "source": [
    "print(arr[:,2])"
   ]
  },
  {
   "cell_type": "code",
   "execution_count": 27,
   "metadata": {},
   "outputs": [
    {
     "data": {
      "text/plain": [
       "array([[ 3.    ,  7.25  , 22.    ],\n",
       "       [ 1.    , 71.2833, 38.    ],\n",
       "       [ 3.    ,  7.925 , 26.    ],\n",
       "       ...,\n",
       "       [ 3.    , 23.45  ,  7.    ],\n",
       "       [ 1.    , 30.    , 26.    ],\n",
       "       [ 3.    ,  7.75  , 32.    ]])"
      ]
     },
     "execution_count": 27,
     "metadata": {},
     "output_type": "execute_result"
    }
   ],
   "source": [
    "arr"
   ]
  },
  {
   "cell_type": "code",
   "execution_count": 28,
   "metadata": {},
   "outputs": [
    {
     "data": {
      "text/plain": [
       "array([3., 1., 3., 1., 3., 3., 1., 3., 3., 2., 3., 1., 3., 3., 3., 2., 3.,\n",
       "       2., 3., 3., 2., 2., 3., 1., 3., 3., 3., 1., 3., 3., 1., 1., 3., 2.,\n",
       "       1., 1., 3., 3., 3., 3., 3., 2., 2., 3., 3., 3., 3., 3., 3., 3., 3.,\n",
       "       1., 2., 1., 1., 2., 3., 2., 3., 3., 1., 1., 3., 1., 3., 2., 3., 3.,\n",
       "       3., 2., 3., 2., 3., 3., 3., 3., 3., 2., 3., 3., 3., 3., 1., 2., 3.,\n",
       "       3., 3., 1., 3., 3., 3., 1., 3., 3., 3., 1., 1., 2., 2., 3., 3., 1.,\n",
       "       3., 3., 3., 3., 3., 3., 3., 1., 3., 3., 3., 3., 3., 3., 2., 1., 3.,\n",
       "       2., 3., 2., 2., 1., 3., 3., 3., 3., 3., 3., 3., 3., 2., 2., 2., 1.,\n",
       "       1., 3., 1., 3., 3., 3., 3., 2., 2., 3., 3., 2., 2., 2., 1., 3., 3.,\n",
       "       3., 1., 3., 3., 3., 3., 3., 2., 3., 3., 3., 3., 1., 3., 1., 3., 1.,\n",
       "       3., 3., 3., 1., 3., 3., 1., 2., 3., 3., 2., 3., 2., 3., 1., 3., 1.,\n",
       "       3., 3., 2., 2., 3., 2., 1., 1., 3., 3., 3., 2., 3., 3., 3., 3., 3.,\n",
       "       3., 3., 3., 3., 1., 3., 2., 3., 2., 3., 1., 3., 2., 1., 2., 3., 2.,\n",
       "       3., 3., 1., 3., 2., 3., 2., 3., 1., 3., 2., 3., 2., 3., 2., 2., 2.,\n",
       "       2., 3., 3., 2., 3., 3., 1., 3., 2., 1., 2., 3., 3., 1., 3., 3., 3.,\n",
       "       1., 1., 1., 2., 3., 1., 1., 3., 2., 3., 3., 1., 1., 1., 3., 2., 1.,\n",
       "       3., 1., 3., 2., 3., 3., 3., 3., 3., 3., 1., 3., 3., 3., 2., 3., 1.,\n",
       "       1., 2., 3., 3., 1., 3., 1., 1., 1., 3., 3., 3., 2., 3., 1., 1., 1.,\n",
       "       2., 1., 1., 1., 2., 3., 2., 3., 2., 2., 1., 1., 3., 3., 2., 2., 3.,\n",
       "       1., 3., 2., 3., 1., 3., 1., 1., 3., 1., 3., 1., 1., 3., 1., 2., 1.,\n",
       "       2., 2., 2., 2., 2., 3., 3., 3., 3., 1., 3., 3., 3., 3., 1., 2., 3.,\n",
       "       3., 3., 2., 3., 3., 3., 3., 1., 3., 3., 1., 1., 3., 3., 1., 3., 1.,\n",
       "       3., 1., 3., 3., 1., 3., 3., 1., 3., 2., 3., 2., 3., 2., 1., 3., 3.,\n",
       "       1., 3., 3., 3., 2., 2., 2., 3., 3., 3., 3., 3., 2., 3., 2., 3., 3.,\n",
       "       3., 3., 1., 2., 3., 3., 2., 2., 2., 3., 3., 3., 3., 3., 3., 2., 2.,\n",
       "       3., 3., 1., 3., 2., 3., 1., 1., 3., 2., 1., 2., 2., 3., 3., 2., 3.,\n",
       "       1., 2., 1., 3., 1., 2., 3., 1., 1., 3., 3., 1., 1., 2., 3., 1., 3.,\n",
       "       1., 2., 3., 3., 2., 1., 3., 3., 3., 3., 2., 2., 3., 1., 2., 3., 3.,\n",
       "       3., 3., 2., 3., 3., 1., 3., 1., 1., 3., 3., 3., 3., 1., 1., 3., 3.,\n",
       "       1., 3., 1., 3., 3., 3., 3., 3., 1., 1., 2., 1., 3., 3., 3., 3., 1.,\n",
       "       1., 3., 1., 2., 3., 2., 3., 1., 3., 3., 1., 3., 3., 2., 1., 3., 2.,\n",
       "       2., 3., 3., 3., 3., 2., 1., 1., 3., 1., 1., 3., 3., 2., 1., 1., 2.,\n",
       "       2., 3., 2., 1., 2., 3., 3., 3., 1., 1., 1., 1., 3., 3., 3., 2., 3.,\n",
       "       3., 3., 3., 3., 3., 3., 2., 1., 1., 3., 3., 3., 2., 1., 3., 3., 2.,\n",
       "       1., 2., 1., 3., 1., 2., 1., 3., 3., 3., 1., 3., 3., 2., 3., 2., 3.,\n",
       "       3., 1., 2., 3., 1., 3., 1., 3., 3., 1., 2., 1., 3., 3., 3., 3., 3.,\n",
       "       2., 3., 3., 2., 2., 3., 1., 3., 3., 3., 1., 2., 1., 3., 3., 1., 3.,\n",
       "       1., 1., 3., 2., 3., 2., 3., 3., 3., 1., 3., 3., 3., 1., 3., 1., 3.,\n",
       "       3., 3., 2., 3., 3., 3., 2., 3., 3., 2., 1., 1., 3., 1., 3., 3., 2.,\n",
       "       2., 3., 3., 1., 2., 1., 2., 2., 2., 3., 3., 3., 3., 1., 3., 1., 3.,\n",
       "       3., 2., 2., 3., 3., 3., 1., 1., 3., 3., 3., 1., 2., 3., 3., 1., 3.,\n",
       "       1., 1., 3., 3., 3., 2., 2., 1., 1., 3., 1., 1., 1., 3., 2., 3., 1.,\n",
       "       2., 3., 2., 3., 2., 2., 1., 3., 2., 3., 2., 3., 1., 3., 2., 2., 2.,\n",
       "       3., 3., 1., 3., 3., 1., 1., 1., 3., 3., 1., 3., 2., 1., 3., 2., 3.,\n",
       "       3., 3., 2., 2., 3., 2., 3., 1., 3., 3., 3., 1., 3., 1., 1., 3., 3.,\n",
       "       3., 3., 3., 2., 3., 2., 3., 3., 3., 3., 1., 3., 1., 1., 3., 3., 3.,\n",
       "       3., 3., 3., 1., 3., 2., 3., 1., 3., 2., 1., 3., 3., 3., 2., 2., 1.,\n",
       "       3., 3., 3., 1., 3., 2., 1., 3., 3., 2., 3., 3., 1., 3., 2., 3., 3.,\n",
       "       1., 3., 1., 3., 3., 3., 3., 2., 3., 1., 3., 2., 3., 3., 3., 1., 3.,\n",
       "       3., 3., 1., 3., 2., 1., 3., 3., 3., 3., 3., 2., 1., 3., 3., 3., 1.,\n",
       "       2., 3., 1., 1., 3., 3., 3., 2., 1., 3., 2., 2., 2., 1., 3., 3., 3.,\n",
       "       1., 1., 3., 2., 3., 3., 3., 3., 1., 2., 3., 3., 2., 3., 3., 2., 1.,\n",
       "       3., 1., 3.])"
      ]
     },
     "execution_count": 28,
     "metadata": {},
     "output_type": "execute_result"
    }
   ],
   "source": [
    "arr[:,0]"
   ]
  },
  {
   "cell_type": "code",
   "execution_count": 29,
   "metadata": {},
   "outputs": [
    {
     "name": "stdout",
     "output_type": "stream",
     "text": [
      "[ True  True  True  True  True  True  True  True  True  True  True  True\n",
      "  True  True  True  True  True  True  True  True  True  True  True  True\n",
      "  True  True  True  True  True  True  True  True  True  True  True  True\n",
      "  True  True  True  True  True  True  True  True  True  True  True  True\n",
      "  True  True  True  True  True  True  True  True  True  True  True  True\n",
      "  True  True  True  True  True  True  True  True  True  True  True  True\n",
      "  True  True  True  True  True  True  True  True  True  True  True  True\n",
      "  True  True  True  True  True  True  True  True  True  True  True  True\n",
      "  True  True  True  True  True  True  True  True  True  True  True  True\n",
      "  True  True  True  True  True  True  True  True  True  True  True  True\n",
      "  True  True  True  True  True  True  True  True  True  True  True  True\n",
      "  True  True  True  True  True  True  True  True  True  True  True  True\n",
      "  True  True  True  True  True  True  True  True  True  True  True  True\n",
      "  True  True  True  True  True  True  True  True  True  True  True  True\n",
      "  True  True  True  True  True  True  True  True  True  True  True  True\n",
      "  True  True  True  True  True  True  True  True  True  True  True  True\n",
      "  True  True  True  True  True  True  True  True  True  True  True  True\n",
      "  True  True  True  True  True  True  True  True  True  True  True  True\n",
      "  True  True  True  True  True  True  True  True  True  True  True  True\n",
      "  True  True  True  True  True  True  True  True  True  True  True  True\n",
      "  True  True  True  True  True  True  True  True  True  True  True  True\n",
      "  True  True  True  True  True  True  True  True  True  True  True  True\n",
      "  True  True  True  True  True  True  True  True  True  True  True  True\n",
      "  True  True  True  True  True  True  True  True  True  True  True  True\n",
      "  True  True  True  True  True  True  True  True  True  True  True  True\n",
      "  True  True  True  True  True  True  True  True  True  True  True  True\n",
      "  True  True  True  True  True  True  True  True  True  True  True  True\n",
      "  True  True  True  True  True  True  True  True  True  True  True  True\n",
      "  True  True  True  True  True  True  True  True  True  True  True  True\n",
      "  True  True  True  True  True  True  True  True  True  True  True  True\n",
      "  True  True  True  True  True  True  True  True  True  True  True  True\n",
      "  True  True  True  True  True  True  True  True  True  True  True  True\n",
      "  True  True  True  True  True  True  True  True  True  True  True  True\n",
      "  True  True  True  True  True  True  True  True  True  True  True  True\n",
      "  True  True  True  True  True  True  True  True  True  True  True  True\n",
      "  True  True  True  True  True  True  True  True  True  True  True  True\n",
      "  True  True  True  True  True  True  True  True  True  True  True  True\n",
      "  True  True  True  True  True  True  True  True  True  True  True  True\n",
      "  True  True  True  True  True  True  True  True  True  True  True  True\n",
      "  True  True  True  True  True  True  True  True  True  True  True  True\n",
      "  True  True  True  True  True  True  True  True  True  True  True  True\n",
      "  True  True  True  True  True  True  True  True  True  True  True  True\n",
      "  True  True  True  True  True  True  True  True  True  True  True  True\n",
      "  True  True  True  True  True  True  True  True  True  True  True  True\n",
      "  True  True  True  True  True  True  True  True  True  True  True  True\n",
      "  True  True  True  True  True  True  True  True  True  True  True  True\n",
      "  True  True  True  True  True  True  True  True  True  True  True  True\n",
      "  True  True  True  True  True  True  True  True  True  True  True  True\n",
      "  True  True  True  True  True  True  True  True  True  True  True  True\n",
      "  True  True  True  True  True  True  True  True  True  True  True  True\n",
      "  True  True  True  True  True  True  True  True  True  True  True  True\n",
      "  True  True  True  True  True  True  True  True  True  True  True  True\n",
      "  True  True  True  True  True  True  True  True  True  True  True  True\n",
      "  True  True  True  True  True  True  True  True  True  True  True  True\n",
      "  True  True  True  True  True  True  True  True  True  True  True  True\n",
      "  True  True  True  True  True  True  True  True  True  True  True  True\n",
      "  True  True  True  True  True  True  True  True  True  True  True  True\n",
      "  True  True  True  True  True  True  True  True  True  True  True  True\n",
      "  True  True  True  True  True  True  True  True  True  True  True  True\n",
      "  True  True  True  True  True  True  True  True  True  True  True  True\n",
      "  True  True  True  True  True  True  True  True  True  True  True  True\n",
      "  True  True  True  True  True  True  True  True  True  True  True  True\n",
      "  True  True  True  True  True  True  True  True  True  True  True  True\n",
      "  True  True  True  True  True  True  True  True  True  True  True  True\n",
      "  True  True  True  True  True  True  True  True  True  True  True  True\n",
      "  True  True  True  True  True  True  True  True  True  True  True  True\n",
      "  True  True  True  True  True  True  True  True  True  True  True  True\n",
      "  True  True  True  True  True  True  True  True  True  True  True  True\n",
      "  True  True  True  True  True  True  True  True  True  True  True  True\n",
      "  True  True  True  True  True  True  True  True  True  True  True  True\n",
      "  True  True  True  True  True  True  True  True  True  True  True  True\n",
      "  True  True  True  True  True  True  True  True  True  True  True  True\n",
      "  True  True  True  True  True  True  True  True  True  True  True  True\n",
      "  True  True  True  True  True  True  True  True  True  True  True]\n"
     ]
    }
   ],
   "source": [
    "mask=arr[:,0]<18\n",
    "print(mask)"
   ]
  },
  {
   "cell_type": "code",
   "execution_count": 30,
   "metadata": {},
   "outputs": [
    {
     "data": {
      "text/plain": [
       "array([ True,  True,  True,  True,  True,  True,  True,  True,  True,\n",
       "        True,  True,  True,  True,  True,  True,  True,  True,  True,\n",
       "        True,  True,  True,  True,  True,  True,  True,  True,  True,\n",
       "        True,  True,  True,  True,  True,  True,  True,  True,  True,\n",
       "        True,  True,  True,  True,  True,  True,  True,  True,  True,\n",
       "        True,  True,  True,  True,  True,  True,  True,  True,  True,\n",
       "        True,  True,  True,  True,  True,  True,  True,  True,  True,\n",
       "        True,  True,  True,  True,  True,  True,  True,  True,  True,\n",
       "        True,  True,  True,  True,  True,  True,  True,  True,  True,\n",
       "        True,  True,  True,  True,  True,  True,  True,  True,  True,\n",
       "        True,  True,  True,  True,  True,  True,  True,  True,  True,\n",
       "        True,  True,  True,  True,  True,  True,  True,  True,  True,\n",
       "        True,  True,  True,  True,  True,  True,  True,  True,  True,\n",
       "        True,  True,  True,  True,  True,  True,  True,  True,  True,\n",
       "        True,  True,  True,  True,  True,  True,  True,  True,  True,\n",
       "        True,  True,  True,  True,  True,  True,  True,  True,  True,\n",
       "        True,  True,  True,  True,  True,  True,  True,  True,  True,\n",
       "        True,  True,  True,  True,  True,  True,  True,  True,  True,\n",
       "        True,  True,  True,  True,  True,  True,  True,  True,  True,\n",
       "        True,  True,  True,  True,  True,  True,  True,  True,  True,\n",
       "        True,  True,  True,  True,  True,  True,  True,  True,  True,\n",
       "        True,  True,  True,  True,  True,  True,  True,  True,  True,\n",
       "        True,  True,  True,  True,  True,  True,  True,  True,  True,\n",
       "        True,  True,  True,  True,  True,  True,  True,  True,  True,\n",
       "        True,  True,  True,  True,  True,  True,  True,  True,  True,\n",
       "        True,  True,  True,  True,  True,  True,  True,  True,  True,\n",
       "        True,  True,  True,  True,  True,  True,  True,  True,  True,\n",
       "        True,  True,  True,  True,  True,  True,  True,  True,  True,\n",
       "        True,  True,  True,  True,  True,  True,  True,  True,  True,\n",
       "        True,  True,  True,  True,  True,  True,  True,  True,  True,\n",
       "        True,  True,  True,  True,  True,  True,  True,  True,  True,\n",
       "        True,  True,  True,  True,  True,  True,  True,  True,  True,\n",
       "        True,  True,  True,  True,  True,  True,  True,  True,  True,\n",
       "        True,  True,  True,  True,  True,  True,  True,  True,  True,\n",
       "        True,  True,  True,  True,  True,  True,  True,  True,  True,\n",
       "        True,  True,  True,  True,  True,  True,  True,  True,  True,\n",
       "        True,  True,  True,  True,  True,  True,  True,  True,  True,\n",
       "        True,  True,  True,  True,  True,  True,  True,  True,  True,\n",
       "        True,  True,  True,  True,  True,  True,  True,  True,  True,\n",
       "        True,  True,  True,  True,  True,  True,  True,  True,  True,\n",
       "        True,  True,  True,  True,  True,  True,  True,  True,  True,\n",
       "        True,  True,  True,  True,  True,  True,  True,  True,  True,\n",
       "        True,  True,  True,  True,  True,  True,  True,  True,  True,\n",
       "        True,  True,  True,  True,  True,  True,  True,  True,  True,\n",
       "        True,  True,  True,  True,  True,  True,  True,  True,  True,\n",
       "        True,  True,  True,  True,  True,  True,  True,  True,  True,\n",
       "        True,  True,  True,  True,  True,  True,  True,  True,  True,\n",
       "        True,  True,  True,  True,  True,  True,  True,  True,  True,\n",
       "        True,  True,  True,  True,  True,  True,  True,  True,  True,\n",
       "        True,  True,  True,  True,  True,  True,  True,  True,  True,\n",
       "        True,  True,  True,  True,  True,  True,  True,  True,  True,\n",
       "        True,  True,  True,  True,  True,  True,  True,  True,  True,\n",
       "        True,  True,  True,  True,  True,  True,  True,  True,  True,\n",
       "        True,  True,  True,  True,  True,  True,  True,  True,  True,\n",
       "        True,  True,  True,  True,  True,  True,  True,  True,  True,\n",
       "        True,  True,  True,  True,  True,  True,  True,  True,  True,\n",
       "        True,  True,  True,  True,  True,  True,  True,  True,  True,\n",
       "        True,  True,  True,  True,  True,  True,  True,  True,  True,\n",
       "        True,  True,  True,  True,  True,  True,  True,  True,  True,\n",
       "        True,  True,  True,  True,  True,  True,  True,  True,  True,\n",
       "        True,  True,  True,  True,  True,  True,  True,  True,  True,\n",
       "        True,  True,  True,  True,  True,  True,  True,  True,  True,\n",
       "        True,  True,  True,  True,  True,  True,  True,  True,  True,\n",
       "        True,  True,  True,  True,  True,  True,  True,  True,  True,\n",
       "        True,  True,  True,  True,  True,  True,  True,  True,  True,\n",
       "        True,  True,  True,  True,  True,  True,  True,  True,  True,\n",
       "        True,  True,  True,  True,  True,  True,  True,  True,  True,\n",
       "        True,  True,  True,  True,  True,  True,  True,  True,  True,\n",
       "        True,  True,  True,  True,  True,  True,  True,  True,  True,\n",
       "        True,  True,  True,  True,  True,  True,  True,  True,  True,\n",
       "        True,  True,  True,  True,  True,  True,  True,  True,  True,\n",
       "        True,  True,  True,  True,  True,  True,  True,  True,  True,\n",
       "        True,  True,  True,  True,  True,  True,  True,  True,  True,\n",
       "        True,  True,  True,  True,  True,  True,  True,  True,  True,\n",
       "        True,  True,  True,  True,  True,  True,  True,  True,  True,\n",
       "        True,  True,  True,  True,  True,  True,  True,  True,  True,\n",
       "        True,  True,  True,  True,  True,  True,  True,  True,  True,\n",
       "        True,  True,  True,  True,  True,  True,  True,  True,  True,\n",
       "        True,  True,  True,  True,  True,  True,  True,  True,  True,\n",
       "        True,  True,  True,  True,  True,  True,  True,  True,  True,\n",
       "        True,  True,  True,  True,  True,  True,  True,  True,  True,\n",
       "        True,  True,  True,  True,  True,  True,  True,  True,  True,\n",
       "        True,  True,  True,  True,  True,  True,  True,  True,  True,\n",
       "        True,  True,  True,  True,  True,  True,  True,  True,  True,\n",
       "        True,  True,  True,  True,  True,  True,  True,  True,  True,\n",
       "        True,  True,  True,  True,  True,  True,  True,  True,  True,\n",
       "        True,  True,  True,  True,  True,  True,  True,  True,  True,\n",
       "        True,  True,  True,  True,  True,  True,  True,  True,  True,\n",
       "        True,  True,  True,  True,  True,  True,  True,  True,  True,\n",
       "        True,  True,  True,  True,  True,  True,  True,  True,  True,\n",
       "        True,  True,  True,  True,  True,  True,  True,  True,  True,\n",
       "        True,  True,  True,  True,  True,  True,  True,  True,  True,\n",
       "        True,  True,  True,  True,  True,  True,  True,  True,  True,\n",
       "        True,  True,  True,  True,  True,  True,  True,  True,  True,\n",
       "        True,  True,  True,  True,  True,  True,  True,  True,  True,\n",
       "        True,  True,  True,  True,  True,  True,  True,  True,  True,\n",
       "        True,  True,  True,  True,  True,  True,  True,  True,  True,\n",
       "        True,  True,  True,  True,  True,  True,  True,  True,  True,\n",
       "        True,  True,  True,  True,  True])"
      ]
     },
     "execution_count": 30,
     "metadata": {},
     "output_type": "execute_result"
    }
   ],
   "source": [
    "mask"
   ]
  },
  {
   "cell_type": "code",
   "execution_count": 31,
   "metadata": {},
   "outputs": [
    {
     "data": {
      "text/plain": [
       "array([[ 3.    ,  7.25  , 22.    ],\n",
       "       [ 1.    , 71.2833, 38.    ],\n",
       "       [ 3.    ,  7.925 , 26.    ],\n",
       "       ...,\n",
       "       [ 3.    , 23.45  ,  7.    ],\n",
       "       [ 1.    , 30.    , 26.    ],\n",
       "       [ 3.    ,  7.75  , 32.    ]])"
      ]
     },
     "execution_count": 31,
     "metadata": {},
     "output_type": "execute_result"
    }
   ],
   "source": [
    "\n",
    "arr[mask]"
   ]
  },
  {
   "cell_type": "code",
   "execution_count": 32,
   "metadata": {},
   "outputs": [],
   "source": [
    "final=arr[arr[:,0]<18].sum()"
   ]
  },
  {
   "cell_type": "code",
   "execution_count": 33,
   "metadata": {},
   "outputs": [
    {
     "data": {
      "text/plain": [
       "56841.0777"
      ]
     },
     "execution_count": 33,
     "metadata": {},
     "output_type": "execute_result"
    }
   ],
   "source": [
    "final"
   ]
  },
  {
   "cell_type": "code",
   "execution_count": 34,
   "metadata": {},
   "outputs": [
    {
     "data": {
      "text/plain": [
       "Text(0, 0.5, 'Fare')"
      ]
     },
     "execution_count": 34,
     "metadata": {},
     "output_type": "execute_result"
    },
    {
     "data": {
      "image/png": "[encoded data removed]",
      "text/plain": [
       "<Figure size 432x288 with 1 Axes>"
      ]
     },
     "metadata": {
      "needs_background": "light"
     },
     "output_type": "display_data"
    }
   ],
   "source": [
    "#SCATTER PLOT\n",
    "import matplotlib.pyplot as plt\n",
    "c=plt.scatter(df[\"Age\"],df[\"Fare\"])\n",
    "plt.xlabel(\"Age\")\n",
    "plt.ylabel(\"Fare\")\n"
   ]
  },
  {
   "cell_type": "code",
   "execution_count": 35,
   "metadata": {},
   "outputs": [
    {
     "data": {
      "text/plain": [
       "<matplotlib.collections.PathCollection at 0x8b2a0f0>"
      ]
     },
     "execution_count": 35,
     "metadata": {},
     "output_type": "execute_result"
    },
    {
     "data": {
      "image/png": "[encoded data removed]",
      "text/plain": [
       "<Figure size 432x288 with 1 Axes>"
      ]
     },
     "metadata": {
      "needs_background": "light"
     },
     "output_type": "display_data"
    }
   ],
   "source": [
    "#SCATTER PLOT\n",
    "import matplotlib.pyplot as plt\n",
    "c=plt.scatter(df[\"Age\"],df[\"Fare\"],c=df[\"Pclass\"])\n",
    "plt.xlabel(\"Age\")\n",
    "plt.ylabel(\"Fare\")\n",
    "plt.plot([0,80],[85,5])\n",
    "c"
   ]
  },
  {
   "cell_type": "code",
   "execution_count": 36,
   "metadata": {},
   "outputs": [
    {
     "name": "stdout",
     "output_type": "stream",
     "text": [
      "(array([728., 106.,  31.,   2.,  11.,   6.,   0.,   0.,   0.,   3.]), array([  0.     ,  51.23292, 102.46584, 153.69876, 204.93168, 256.1646 ,\n",
      "       307.39752, 358.63044, 409.86336, 461.09628, 512.3292 ]), <a list of 10 Patch objects>)\n",
      "[[<matplotlib.axes._subplots.AxesSubplot object at 0x08BB8B70>\n",
      "  <matplotlib.axes._subplots.AxesSubplot object at 0x08BD7BF0>]\n",
      " [<matplotlib.axes._subplots.AxesSubplot object at 0x08BF7CD0>\n",
      "  <matplotlib.axes._subplots.AxesSubplot object at 0x08C18DB0>]\n",
      " [<matplotlib.axes._subplots.AxesSubplot object at 0x08C3AE90>\n",
      "  <matplotlib.axes._subplots.AxesSubplot object at 0x08C5AF70>]]\n"
     ]
    },
    {
     "data": {
      "image/png": "[encoded data removed]",
      "text/plain": [
       "<Figure size 432x288 with 1 Axes>"
      ]
     },
     "metadata": {
      "needs_background": "light"
     },
     "output_type": "display_data"
    },
    {
     "data": {
      "image/png": "[encoded data removed]",
      "text/plain": [
       "<Figure size 1440x2160 with 6 Axes>"
      ]
     },
     "metadata": {
      "needs_background": "light"
     },
     "output_type": "display_data"
    }
   ],
   "source": [
    "#HISTOGRAM\n",
    "import matplotlib.pyplot as plt\n",
    "d=plt.hist(df[\"Fare\"])\n",
    "e=df.hist(figsize=(20,30))\n",
    "print(d)\n",
    "print(e)"
   ]
  },
  {
   "cell_type": "code",
   "execution_count": 37,
   "metadata": {},
   "outputs": [
    {
     "data": {
      "text/plain": [
       "<matplotlib.axes._subplots.AxesSubplot at 0xba6e690>"
      ]
     },
     "execution_count": 37,
     "metadata": {},
     "output_type": "execute_result"
    },
    {
     "data": {
      "image/png": "[encoded data removed]",
      "text/plain": [
       "<Figure size 432x288 with 1 Axes>"
      ]
     },
     "metadata": {
      "needs_background": "light"
     },
     "output_type": "display_data"
    }
   ],
   "source": [
    "#BOX PLOT\n",
    "import seaborn as sns\n",
    "g=sns.boxplot(x=\"Sex\",y=\"Age\", data=df)\n",
    "g"
   ]
  },
  {
   "cell_type": "code",
   "execution_count": 38,
   "metadata": {},
   "outputs": [
    {
     "data": {
      "text/html": [
       "<div>\n",
       "<style scoped>\n",
       "    .dataframe tbody tr th:only-of-type {\n",
       "        vertical-align: middle;\n",
       "    }\n",
       "\n",
       "    .dataframe tbody tr th {\n",
       "        vertical-align: top;\n",
       "    }\n",
       "\n",
       "    .dataframe thead th {\n",
       "        text-align: right;\n",
       "    }\n",
       "</style>\n",
       "<table border=\"1\" class=\"dataframe\">\n",
       "  <thead>\n",
       "    <tr style=\"text-align: right;\">\n",
       "      <th>Sex</th>\n",
       "      <th>female</th>\n",
       "      <th>male</th>\n",
       "    </tr>\n",
       "    <tr>\n",
       "      <th>Fare</th>\n",
       "      <th></th>\n",
       "      <th></th>\n",
       "    </tr>\n",
       "  </thead>\n",
       "  <tbody>\n",
       "    <tr>\n",
       "      <th>0.0000</th>\n",
       "      <td>0</td>\n",
       "      <td>15</td>\n",
       "    </tr>\n",
       "    <tr>\n",
       "      <th>4.0125</th>\n",
       "      <td>0</td>\n",
       "      <td>1</td>\n",
       "    </tr>\n",
       "    <tr>\n",
       "      <th>5.0000</th>\n",
       "      <td>0</td>\n",
       "      <td>1</td>\n",
       "    </tr>\n",
       "    <tr>\n",
       "      <th>6.2375</th>\n",
       "      <td>0</td>\n",
       "      <td>1</td>\n",
       "    </tr>\n",
       "    <tr>\n",
       "      <th>6.4375</th>\n",
       "      <td>0</td>\n",
       "      <td>1</td>\n",
       "    </tr>\n",
       "    <tr>\n",
       "      <th>...</th>\n",
       "      <td>...</td>\n",
       "      <td>...</td>\n",
       "    </tr>\n",
       "    <tr>\n",
       "      <th>227.5250</th>\n",
       "      <td>3</td>\n",
       "      <td>1</td>\n",
       "    </tr>\n",
       "    <tr>\n",
       "      <th>247.5208</th>\n",
       "      <td>1</td>\n",
       "      <td>1</td>\n",
       "    </tr>\n",
       "    <tr>\n",
       "      <th>262.3750</th>\n",
       "      <td>2</td>\n",
       "      <td>0</td>\n",
       "    </tr>\n",
       "    <tr>\n",
       "      <th>263.0000</th>\n",
       "      <td>2</td>\n",
       "      <td>2</td>\n",
       "    </tr>\n",
       "    <tr>\n",
       "      <th>512.3292</th>\n",
       "      <td>1</td>\n",
       "      <td>2</td>\n",
       "    </tr>\n",
       "  </tbody>\n",
       "</table>\n",
       "<p>248 rows × 2 columns</p>\n",
       "</div>"
      ],
      "text/plain": [
       "Sex       female  male\n",
       "Fare                  \n",
       "0.0000         0    15\n",
       "4.0125         0     1\n",
       "5.0000         0     1\n",
       "6.2375         0     1\n",
       "6.4375         0     1\n",
       "...          ...   ...\n",
       "227.5250       3     1\n",
       "247.5208       1     1\n",
       "262.3750       2     0\n",
       "263.0000       2     2\n",
       "512.3292       1     2\n",
       "\n",
       "[248 rows x 2 columns]"
      ]
     },
     "execution_count": 38,
     "metadata": {},
     "output_type": "execute_result"
    }
   ],
   "source": [
    "#SUMMARISING DATA\n",
    "import pandas as pd\n",
    "h=pd.crosstab(df[\"Fare\"],df[\"Sex\"])\n",
    "h"
   ]
  },
  {
   "cell_type": "code",
   "execution_count": 39,
   "metadata": {},
   "outputs": [
    {
     "data": {
      "text/plain": [
       "<matplotlib.axes._subplots.AxesSubplot at 0xbac80d0>"
      ]
     },
     "execution_count": 39,
     "metadata": {},
     "output_type": "execute_result"
    },
    {
     "data": {
      "image/png": "[encoded data removed]",
      "text/plain": [
       "<Figure size 432x288 with 1 Axes>"
      ]
     },
     "metadata": {
      "needs_background": "light"
     },
     "output_type": "display_data"
    }
   ],
   "source": [
    "#COUNT PLOT\n",
    "import seaborn as sns\n",
    "i=sns.countplot(x=\"Pclass\",hue=\"Sex\", data=df)\n",
    "i"
   ]
  },
  {
   "cell_type": "code",
   "execution_count": 40,
   "metadata": {},
   "outputs": [
    {
     "data": {
      "text/plain": [
       "<seaborn.axisgrid.PairGrid at 0xbb29990>"
      ]
     },
     "execution_count": 40,
     "metadata": {},
     "output_type": "execute_result"
    },
    {
     "data": {
      "image/png": "[encoded data removed]",
      "text/plain": [
       "<Figure size 1080x1080 with 42 Axes>"
      ]
     },
     "metadata": {
      "needs_background": "light"
     },
     "output_type": "display_data"
    }
   ],
   "source": [
    "# PAIR PLOT\n",
    "\n",
    "import seaborn as sns\n",
    "j=sns.pairplot(df)\n",
    "j"
   ]
  },
  {
   "cell_type": "code",
   "execution_count": 41,
   "metadata": {},
   "outputs": [
    {
     "name": "stdout",
     "output_type": "stream",
     "text": [
      "   Survived  Pclass     Sex   Age  Siblings/Spouses  Parents/Children     Fare\n",
      "0         0       3    male  22.0                 1                 0   7.2500\n",
      "1         1       1  female  38.0                 1                 0  71.2833\n",
      "2         1       3  female  26.0                 0                 0   7.9250\n",
      "3         1       1  female  35.0                 1                 0  53.1000\n",
      "4         0       3    male  35.0                 0                 0   8.0500\n"
     ]
    }
   ],
   "source": [
    "print(df.head())"
   ]
  },
  {
   "cell_type": "code",
   "execution_count": 42,
   "metadata": {},
   "outputs": [
    {
     "data": {
      "text/html": [
       "<div>\n",
       "<style scoped>\n",
       "    .dataframe tbody tr th:only-of-type {\n",
       "        vertical-align: middle;\n",
       "    }\n",
       "\n",
       "    .dataframe tbody tr th {\n",
       "        vertical-align: top;\n",
       "    }\n",
       "\n",
       "    .dataframe thead th {\n",
       "        text-align: right;\n",
       "    }\n",
       "</style>\n",
       "<table border=\"1\" class=\"dataframe\">\n",
       "  <thead>\n",
       "    <tr style=\"text-align: right;\">\n",
       "      <th></th>\n",
       "      <th>Survived</th>\n",
       "      <th>Pclass</th>\n",
       "      <th>Sex</th>\n",
       "      <th>Age</th>\n",
       "      <th>Siblings/Spouses</th>\n",
       "      <th>Parents/Children</th>\n",
       "      <th>Fare</th>\n",
       "      <th>male</th>\n",
       "    </tr>\n",
       "  </thead>\n",
       "  <tbody>\n",
       "    <tr>\n",
       "      <th>0</th>\n",
       "      <td>0</td>\n",
       "      <td>3</td>\n",
       "      <td>male</td>\n",
       "      <td>22.0</td>\n",
       "      <td>1</td>\n",
       "      <td>0</td>\n",
       "      <td>7.2500</td>\n",
       "      <td>True</td>\n",
       "    </tr>\n",
       "    <tr>\n",
       "      <th>1</th>\n",
       "      <td>1</td>\n",
       "      <td>1</td>\n",
       "      <td>female</td>\n",
       "      <td>38.0</td>\n",
       "      <td>1</td>\n",
       "      <td>0</td>\n",
       "      <td>71.2833</td>\n",
       "      <td>False</td>\n",
       "    </tr>\n",
       "    <tr>\n",
       "      <th>2</th>\n",
       "      <td>1</td>\n",
       "      <td>3</td>\n",
       "      <td>female</td>\n",
       "      <td>26.0</td>\n",
       "      <td>0</td>\n",
       "      <td>0</td>\n",
       "      <td>7.9250</td>\n",
       "      <td>False</td>\n",
       "    </tr>\n",
       "    <tr>\n",
       "      <th>3</th>\n",
       "      <td>1</td>\n",
       "      <td>1</td>\n",
       "      <td>female</td>\n",
       "      <td>35.0</td>\n",
       "      <td>1</td>\n",
       "      <td>0</td>\n",
       "      <td>53.1000</td>\n",
       "      <td>False</td>\n",
       "    </tr>\n",
       "    <tr>\n",
       "      <th>4</th>\n",
       "      <td>0</td>\n",
       "      <td>3</td>\n",
       "      <td>male</td>\n",
       "      <td>35.0</td>\n",
       "      <td>0</td>\n",
       "      <td>0</td>\n",
       "      <td>8.0500</td>\n",
       "      <td>True</td>\n",
       "    </tr>\n",
       "  </tbody>\n",
       "</table>\n",
       "</div>"
      ],
      "text/plain": [
       "   Survived  Pclass     Sex   Age  Siblings/Spouses  Parents/Children  \\\n",
       "0         0       3    male  22.0                 1                 0   \n",
       "1         1       1  female  38.0                 1                 0   \n",
       "2         1       3  female  26.0                 0                 0   \n",
       "3         1       1  female  35.0                 1                 0   \n",
       "4         0       3    male  35.0                 0                 0   \n",
       "\n",
       "      Fare   male  \n",
       "0   7.2500   True  \n",
       "1  71.2833  False  \n",
       "2   7.9250  False  \n",
       "3  53.1000  False  \n",
       "4   8.0500   True  "
      ]
     },
     "execution_count": 42,
     "metadata": {},
     "output_type": "execute_result"
    }
   ],
   "source": [
    "import pandas as pd\n",
    "df[\"male\"]=df[\"Sex\"]==\"male\"\n",
    "df.head()"
   ]
  },
  {
   "cell_type": "code",
   "execution_count": 43,
   "metadata": {},
   "outputs": [
    {
     "data": {
      "text/plain": [
       "array([[3, 'male', 22.0, ..., 0, 7.25, True],\n",
       "       [1, 'female', 38.0, ..., 0, 71.2833, False],\n",
       "       [3, 'female', 26.0, ..., 0, 7.925, False],\n",
       "       ...,\n",
       "       [3, 'female', 7.0, ..., 2, 23.45, False],\n",
       "       [1, 'male', 26.0, ..., 0, 30.0, True],\n",
       "       [3, 'male', 32.0, ..., 0, 7.75, True]], dtype=object)"
      ]
     },
     "execution_count": 43,
     "metadata": {},
     "output_type": "execute_result"
    }
   ],
   "source": [
    "k=df[[\"Pclass\",\"Sex\",\"Age\",\"Siblings/Spouses\",\"Parents/Children\",\"Fare\",\"male\"]].values\n",
    "k"
   ]
  },
  {
   "cell_type": "code",
   "execution_count": 44,
   "metadata": {},
   "outputs": [
    {
     "data": {
      "text/plain": [
       "array([0, 1, 1, 1, 0, 0, 0, 0, 1, 1, 1, 1, 0, 0, 0, 1, 0, 1, 0, 1, 0, 1,\n",
       "       1, 1, 0, 1, 0, 0, 1, 0, 0, 1, 1, 0, 0, 0, 1, 0, 0, 1, 0, 0, 1, 1,\n",
       "       0, 0, 1, 0, 0, 0, 0, 1, 1, 0, 1, 1, 0, 1, 0, 0, 1, 0, 0, 0, 1, 1,\n",
       "       0, 1, 0, 0, 0, 0, 0, 1, 0, 0, 0, 1, 1, 0, 1, 1, 0, 1, 1, 0, 0, 1,\n",
       "       0, 0, 0, 0, 0, 0, 0, 0, 1, 1, 0, 0, 0, 0, 0, 0, 0, 1, 1, 0, 1, 0,\n",
       "       0, 0, 0, 0, 0, 0, 0, 0, 0, 0, 0, 0, 1, 0, 1, 0, 1, 1, 0, 0, 0, 0,\n",
       "       1, 0, 0, 1, 0, 0, 0, 0, 1, 1, 0, 0, 0, 1, 0, 0, 0, 0, 1, 0, 0, 0,\n",
       "       0, 1, 0, 0, 0, 0, 1, 0, 0, 0, 1, 1, 0, 0, 0, 0, 0, 1, 0, 0, 0, 0,\n",
       "       0, 0, 0, 0, 0, 0, 1, 1, 0, 1, 1, 0, 0, 1, 0, 1, 1, 1, 1, 0, 0, 1,\n",
       "       0, 0, 0, 0, 0, 1, 0, 0, 1, 1, 1, 0, 1, 0, 0, 0, 1, 1, 0, 1, 0, 1,\n",
       "       0, 0, 0, 1, 0, 1, 0, 0, 0, 1, 0, 0, 1, 0, 0, 0, 1, 0, 0, 0, 1, 0,\n",
       "       0, 0, 0, 0, 1, 1, 0, 0, 0, 0, 0, 0, 1, 1, 1, 1, 1, 1, 0, 0, 0, 0,\n",
       "       0, 1, 1, 1, 0, 1, 1, 0, 1, 1, 0, 0, 0, 1, 0, 0, 0, 1, 0, 0, 1, 0,\n",
       "       1, 1, 1, 1, 0, 0, 0, 0, 0, 0, 1, 1, 1, 1, 0, 1, 0, 1, 1, 1, 0, 1,\n",
       "       1, 1, 0, 0, 0, 1, 1, 0, 1, 1, 0, 0, 1, 1, 0, 1, 0, 1, 1, 1, 1, 0,\n",
       "       0, 0, 1, 0, 0, 1, 1, 0, 1, 1, 0, 0, 0, 1, 1, 1, 1, 0, 0, 0, 0, 0,\n",
       "       0, 0, 1, 0, 1, 1, 0, 0, 0, 0, 0, 0, 1, 1, 1, 1, 1, 0, 0, 0, 0, 1,\n",
       "       1, 0, 0, 0, 1, 1, 0, 1, 0, 0, 0, 1, 0, 1, 1, 1, 0, 1, 1, 0, 0, 0,\n",
       "       0, 1, 1, 0, 0, 0, 0, 0, 0, 1, 0, 0, 0, 0, 1, 0, 1, 0, 1, 1, 0, 0,\n",
       "       0, 0, 0, 0, 0, 1, 1, 0, 1, 1, 1, 1, 0, 0, 1, 0, 1, 0, 0, 1, 0, 0,\n",
       "       1, 1, 1, 1, 1, 1, 1, 0, 0, 0, 1, 0, 1, 0, 1, 1, 0, 1, 0, 0, 0, 0,\n",
       "       0, 0, 0, 0, 1, 0, 0, 1, 1, 0, 0, 0, 0, 0, 1, 0, 0, 0, 1, 1, 0, 1,\n",
       "       0, 0, 1, 0, 0, 0, 0, 0, 0, 1, 0, 0, 0, 0, 0, 0, 0, 1, 0, 1, 1, 0,\n",
       "       1, 1, 0, 1, 1, 0, 0, 1, 0, 1, 0, 1, 0, 0, 1, 0, 0, 1, 0, 0, 0, 1,\n",
       "       0, 0, 1, 0, 1, 0, 1, 0, 1, 1, 0, 0, 1, 0, 0, 1, 1, 0, 1, 1, 0, 0,\n",
       "       1, 1, 0, 1, 0, 1, 1, 0, 0, 0, 0, 0, 0, 0, 0, 0, 1, 1, 1, 1, 1, 0,\n",
       "       0, 1, 1, 0, 1, 1, 1, 0, 0, 0, 1, 0, 1, 0, 0, 0, 1, 0, 0, 0, 0, 1,\n",
       "       0, 0, 1, 1, 0, 0, 0, 1, 0, 0, 1, 1, 1, 0, 0, 1, 0, 0, 1, 0, 0, 1,\n",
       "       0, 0, 1, 1, 0, 0, 0, 0, 1, 0, 0, 1, 0, 1, 0, 0, 1, 0, 0, 0, 0, 0,\n",
       "       1, 0, 1, 1, 1, 0, 1, 0, 1, 0, 1, 0, 1, 0, 0, 0, 0, 0, 0, 1, 0, 0,\n",
       "       0, 1, 0, 0, 0, 0, 1, 1, 0, 0, 1, 0, 0, 0, 1, 0, 1, 0, 1, 0, 0, 0,\n",
       "       0, 0, 0, 0, 1, 1, 1, 1, 0, 0, 0, 0, 1, 0, 0, 1, 1, 0, 0, 0, 0, 1,\n",
       "       1, 1, 1, 1, 0, 1, 0, 0, 0, 1, 1, 0, 1, 0, 0, 0, 1, 0, 1, 1, 0, 0,\n",
       "       1, 0, 0, 0, 0, 0, 0, 1, 0, 0, 1, 0, 1, 0, 1, 0, 0, 1, 0, 0, 1, 1,\n",
       "       0, 0, 1, 1, 0, 0, 0, 1, 0, 0, 1, 1, 0, 1, 0, 0, 0, 0, 0, 0, 0, 0,\n",
       "       1, 0, 0, 1, 0, 1, 1, 1, 0, 0, 0, 0, 1, 0, 1, 0, 0, 0, 0, 0, 0, 0,\n",
       "       1, 1, 0, 0, 0, 1, 1, 1, 1, 0, 0, 0, 0, 1, 0, 0, 0, 0, 0, 0, 0, 0,\n",
       "       0, 0, 1, 1, 0, 1, 0, 0, 0, 1, 1, 1, 1, 1, 0, 0, 0, 1, 0, 0, 1, 1,\n",
       "       0, 0, 1, 0, 0, 0, 0, 0, 0, 1, 0, 0, 0, 1, 0, 1, 1, 1, 1, 0, 0, 0,\n",
       "       1, 0, 0, 1, 1, 0, 0, 1, 0, 1, 0, 0, 1, 1, 0, 0, 0, 1, 1, 0, 0, 0,\n",
       "       0, 0, 0, 1, 0, 1, 0], dtype=int64)"
      ]
     },
     "execution_count": 44,
     "metadata": {},
     "output_type": "execute_result"
    }
   ],
   "source": [
    "y=df[\"Survived\"].values\n",
    "y"
   ]
  },
  {
   "cell_type": "code",
   "execution_count": 45,
   "metadata": {},
   "outputs": [
    {
     "name": "stdout",
     "output_type": "stream",
     "text": [
      "[[ 0.01611624 -0.01585256]] [-0.49616551]\n"
     ]
    },
    {
     "name": "stderr",
     "output_type": "stream",
     "text": [
      "E:\\anaconda\\lib\\site-packages\\sklearn\\linear_model\\logistic.py:432: FutureWarning: Default solver will be changed to 'lbfgs' in 0.22. Specify a solver to silence this warning.\n",
      "  FutureWarning)\n"
     ]
    }
   ],
   "source": [
    "#SKLEARN MODULE\n",
    "#BUILD LOGICAL REGRESSION MODEL WITH SKLEARN \n",
    "\n",
    "from sklearn.linear_model import LogisticRegression\n",
    "model=LogisticRegression()\n",
    "x=df[[\"Fare\",\"Age\"]].values\n",
    "y=df[\"Survived\"].values\n",
    "model.fit(x,y)\n",
    "print(model.coef_,model.intercept_)"
   ]
  },
  {
   "cell_type": "code",
   "execution_count": 46,
   "metadata": {},
   "outputs": [
    {
     "name": "stdout",
     "output_type": "stream",
     "text": [
      "[0]\n",
      "[0 1 0 1 0]\n",
      "[0 1 1 1 0]\n"
     ]
    },
    {
     "name": "stderr",
     "output_type": "stream",
     "text": [
      "E:\\anaconda\\lib\\site-packages\\sklearn\\linear_model\\logistic.py:432: FutureWarning: Default solver will be changed to 'lbfgs' in 0.22. Specify a solver to silence this warning.\n",
      "  FutureWarning)\n"
     ]
    }
   ],
   "source": [
    "#MAKE PREDICTIONS WITH THE MODEL\n",
    "\n",
    "from sklearn.linear_model import LogisticRegression\n",
    "model=LogisticRegression()\n",
    "x=df[[\"Fare\",\"Age\",\"Pclass\"]].values\n",
    "y=df[\"Survived\"].values\n",
    "model.fit(x,y)\n",
    "output=model.predict([[200.0,80.0,2]])\n",
    "print(output)\n",
    "print(model.predict(x[:5]))\n",
    "print(y[:5])\n",
    "      "
   ]
  },
  {
   "cell_type": "code",
   "execution_count": 47,
   "metadata": {},
   "outputs": [
    {
     "name": "stdout",
     "output_type": "stream",
     "text": [
      "[0 1 1 1 0 0 0 0 1 1 1 1 0 0 1 1 0 0 1 1 0 0 1 0 1 0 0 1 1 0 0 1 1 0 0 0 0\n",
      " 0 1 1 0 1 1 1 0 0 1 0 1 0 0 1 1 0 0 1 0 1 0 0 1 0 0 0 0 1 0 0 0 0 0 0 0 0\n",
      " 0 0 0 0 1 0 0 1 0 1 0 0 0 1 0 0 0 0 0 0 0 0 1 1 0 1 0 1 0 0 0 1 0 0 1 0 1\n",
      " 0 1 1 0 0 0 1 0 0 0 0 1 0 0 0 0 1 0 0 0 0 1 0 0 1 0 0 1 0 1 1 0 0 0 0 1 0\n",
      " 0 0 1 0 0 0 0 1 0 0 0 0 1 0 0 0 0 1 0 0 0 0 0 1 0 0 0 0 1 0 0 0 0 0 0 1 0\n",
      " 1 0 0 0 1 0 1 0 1 1 0 0 1 1 0 0 0 0 0 1 0 0 1 0 0 1 0 0 0 1 1 0 1 0 0 0 0\n",
      " 0 0 0 0 0 0 0 1 0 0 0 0 1 0 1 0 0 1 1 0 0 0 0 1 1 0 0 0 1 0 0 0 1 1 1 1 1\n",
      " 0 0 0 1 0 0 0 1 1 0 0 1 0 1 1 0 0 0 0 0 0 0 0 0 0 0 0 0 1 1 1 0 1 0 0 0 1\n",
      " 0 1 1 0 0 1 0 1 1 1 0 1 1 1 1 0 0 1 1 0 1 1 0 0 1 1 0 1 0 1 1 1 0 0 1 0 1\n",
      " 0 0 1 0 0 0 1 0 0 0 1 1 1 0 0 0 0 0 0 0 0 1 1 1 1 0 0 0 0 0 0 1 1 1 1 0 0\n",
      " 0 1 1 1 1 1 0 0 1 1 0 1 0 0 0 1 0 1 0 0 0 1 1 0 1 0 0 1 0 0 1 0 1 0 0 0 0\n",
      " 1 0 0 1 0 0 1 1 1 0 1 0 0 1 0 0 1 1 0 0 0 1 1 0 0 1 0 1 0 0 1 0 0 1 0 1 1\n",
      " 0 1 0 0 0 0 0 0 0 0 1 1 0 0 0 0 0 0 0 0 0 0 1 0 0 1 1 1 0 0 0 0 1 0 0 0 0\n",
      " 0 1 1 0 0 0 0 0 0 0 0 0 1 0 1 0 0 1 1 1 1 1 1 0 0 0 0 0 0 1 0 0 1 0 1 0 1\n",
      " 0 0 1 0 0 1 1 0 0 1 0 0 1 1 1 0 1 0 1 1 0 0 0 0 0 1 0 0 0 1 0 0 0 1 0 1 1\n",
      " 1 0 0 0 0 0 0 0 0 1 0 0 0 1 0 1 0 0 1 1 1 0 1 1 0 0 0 1 0 0 0 0 0 1 0 0 0\n",
      " 0 1 0 0 0 1 0 0 0 0 0 0 0 1 1 0 0 1 0 0 1 0 1 1 0 0 0 0 0 0 0 0 1 0 0 0 0\n",
      " 0 0 0 1 0 0 0 0 0 1 1 0 1 0 0 0 0 1 0 1 0 1 1 0 0 0 0 0 0 0 0 0 0 0 0 0 0\n",
      " 1 1 0 0 0 0 0 0 1 0 1 1 1 0 0 0 0 0 0 0 1 0 1 0 0 0 0 0 1 0 0 1 0 1 0 0 0\n",
      " 1 0 1 0 1 0 0 0 0 0 1 1 0 1 0 0 0 0 0 1 1 0 1 1 0 0 0 0 0 0 1 0 0 0 0 1 0\n",
      " 0 0 0 1 0 0 1 0 0 0 1 0 0 0 0 1 0 0 0 1 0 1 0 1 0 0 0 0 1 0 1 0 0 1 0 1 1\n",
      " 1 0 0 0 0 1 0 0 0 0 0 0 0 0 0 1 1 0 1 0 1 1 0 0 0 0 1 0 1 0 0 0 0 0 0 1 0\n",
      " 0 0 1 0 0 1 0 0 0 0 0 1 1 0 0 0 0 1 0 0 0 0 0 0 1 0 0 0 0 0 0 1 0 0 1 1 1\n",
      " 1 1 0 1 0 0 0 1 0 0 1 1 0 0 0 0 1 0 0 1 1 0 0 0 1 1 0 1 0 0 0 0 1 1 0 0]"
     ]
    },
    {
     "name": "stderr",
     "output_type": "stream",
     "text": [
      "E:\\anaconda\\lib\\site-packages\\sklearn\\linear_model\\logistic.py:432: FutureWarning: Default solver will be changed to 'lbfgs' in 0.22. Specify a solver to silence this warning.\n",
      "  FutureWarning)\n"
     ]
    },
    {
     "name": "stdout",
     "output_type": "stream",
     "text": [
      "\n",
      "[0 1 1 1 0 0]\n"
     ]
    }
   ],
   "source": [
    "from sklearn.linear_model import LogisticRegression\n",
    "model=LogisticRegression()\n",
    "x=df[[\"Age\",\"Fare\",\"male\",\"Pclass\",\"Siblings/Spouses\",\"Parents/Children\"]].values\n",
    "y=df[\"Survived\"].values\n",
    "model.fit(x,y)\n",
    "print(model.predict(x))\n",
    "\n",
    "print(y[:6])"
   ]
  },
  {
   "cell_type": "code",
   "execution_count": 48,
   "metadata": {},
   "outputs": [
    {
     "name": "stderr",
     "output_type": "stream",
     "text": [
      "E:\\anaconda\\lib\\site-packages\\sklearn\\linear_model\\logistic.py:432: FutureWarning: Default solver will be changed to 'lbfgs' in 0.22. Specify a solver to silence this warning.\n",
      "  FutureWarning)\n"
     ]
    },
    {
     "name": "stdout",
     "output_type": "stream",
     "text": [
      "298\n",
      "713\n",
      "342\n"
     ]
    }
   ],
   "source": [
    "from sklearn.linear_model import LogisticRegression\n",
    "model=LogisticRegression()\n",
    "x=df[[\"Age\",\"Fare\",\"male\",\"Pclass\",\"Siblings/Spouses\",\"Parents/Children\"]].values\n",
    "y=df[\"Survived\"].values\n",
    "model.fit(x,y)\n",
    "y_pred=model.predict(x)\n",
    "print((y_pred).sum())\n",
    "print((y==y_pred).sum())\n",
    "print(y.sum())\n",
    "#print((y==y_pred).sum()/y.shape[0])\n",
    "#print(model.score(x,y))\n",
    "#print(y.shape[0])\n"
   ]
  },
  {
   "cell_type": "markdown",
   "metadata": {},
   "source": [
    "# Breast cancer Predictor\n",
    "from sklearn.datasets import load_breast_cancer\n",
    "cancer_data=load_breast_cancer()\n",
    "print(cancer_data.keys())\n",
    "print(cancer_data[\"DESCR\"])"
   ]
  },
  {
   "cell_type": "code",
   "execution_count": 49,
   "metadata": {},
   "outputs": [
    {
     "name": "stdout",
     "output_type": "stream",
     "text": [
      "   mean radius  mean texture  mean perimeter  mean area  mean smoothness  \\\n",
      "0        17.99         10.38          122.80     1001.0          0.11840   \n",
      "1        20.57         17.77          132.90     1326.0          0.08474   \n",
      "2        19.69         21.25          130.00     1203.0          0.10960   \n",
      "3        11.42         20.38           77.58      386.1          0.14250   \n",
      "4        20.29         14.34          135.10     1297.0          0.10030   \n",
      "\n",
      "   mean compactness  mean concavity  mean concave points  mean symmetry  \\\n",
      "0           0.27760          0.3001              0.14710         0.2419   \n",
      "1           0.07864          0.0869              0.07017         0.1812   \n",
      "2           0.15990          0.1974              0.12790         0.2069   \n",
      "3           0.28390          0.2414              0.10520         0.2597   \n",
      "4           0.13280          0.1980              0.10430         0.1809   \n",
      "\n",
      "   mean fractal dimension  ...  worst radius  worst texture  worst perimeter  \\\n",
      "0                 0.07871  ...         25.38          17.33           184.60   \n",
      "1                 0.05667  ...         24.99          23.41           158.80   \n",
      "2                 0.05999  ...         23.57          25.53           152.50   \n",
      "3                 0.09744  ...         14.91          26.50            98.87   \n",
      "4                 0.05883  ...         22.54          16.67           152.20   \n",
      "\n",
      "   worst area  worst smoothness  worst compactness  worst concavity  \\\n",
      "0      2019.0            0.1622             0.6656           0.7119   \n",
      "1      1956.0            0.1238             0.1866           0.2416   \n",
      "2      1709.0            0.1444             0.4245           0.4504   \n",
      "3       567.7            0.2098             0.8663           0.6869   \n",
      "4      1575.0            0.1374             0.2050           0.4000   \n",
      "\n",
      "   worst concave points  worst symmetry  worst fractal dimension  \n",
      "0                0.2654          0.4601                  0.11890  \n",
      "1                0.1860          0.2750                  0.08902  \n",
      "2                0.2430          0.3613                  0.08758  \n",
      "3                0.2575          0.6638                  0.17300  \n",
      "4                0.1625          0.2364                  0.07678  \n",
      "\n",
      "[5 rows x 30 columns]\n"
     ]
    }
   ],
   "source": [
    "import pandas as pd\n",
    "from sklearn.datasets import load_breast_cancer\n",
    "cancer_data=load_breast_cancer()\n",
    "df=pd.DataFrame(cancer_data[\"data\"],columns=cancer_data[\"feature_names\"])\n",
    "print(df.head())"
   ]
  },
  {
   "cell_type": "code",
   "execution_count": 50,
   "metadata": {},
   "outputs": [
    {
     "name": "stdout",
     "output_type": "stream",
     "text": [
      "   mean radius  mean texture  mean perimeter  mean area  mean smoothness  \\\n",
      "0        17.99         10.38          122.80     1001.0          0.11840   \n",
      "1        20.57         17.77          132.90     1326.0          0.08474   \n",
      "2        19.69         21.25          130.00     1203.0          0.10960   \n",
      "3        11.42         20.38           77.58      386.1          0.14250   \n",
      "4        20.29         14.34          135.10     1297.0          0.10030   \n",
      "\n",
      "   mean compactness  mean concavity  mean concave points  mean symmetry  \\\n",
      "0           0.27760          0.3001              0.14710         0.2419   \n",
      "1           0.07864          0.0869              0.07017         0.1812   \n",
      "2           0.15990          0.1974              0.12790         0.2069   \n",
      "3           0.28390          0.2414              0.10520         0.2597   \n",
      "4           0.13280          0.1980              0.10430         0.1809   \n",
      "\n",
      "   mean fractal dimension  ...  worst radius  worst texture  worst perimeter  \\\n",
      "0                 0.07871  ...         25.38          17.33           184.60   \n",
      "1                 0.05667  ...         24.99          23.41           158.80   \n",
      "2                 0.05999  ...         23.57          25.53           152.50   \n",
      "3                 0.09744  ...         14.91          26.50            98.87   \n",
      "4                 0.05883  ...         22.54          16.67           152.20   \n",
      "\n",
      "   worst area  worst smoothness  worst compactness  worst concavity  \\\n",
      "0      2019.0            0.1622             0.6656           0.7119   \n",
      "1      1956.0            0.1238             0.1866           0.2416   \n",
      "2      1709.0            0.1444             0.4245           0.4504   \n",
      "3       567.7            0.2098             0.8663           0.6869   \n",
      "4      1575.0            0.1374             0.2050           0.4000   \n",
      "\n",
      "   worst concave points  worst symmetry  worst fractal dimension  \n",
      "0                0.2654          0.4601                  0.11890  \n",
      "1                0.1860          0.2750                  0.08902  \n",
      "2                0.2430          0.3613                  0.08758  \n",
      "3                0.2575          0.6638                  0.17300  \n",
      "4                0.1625          0.2364                  0.07678  \n",
      "\n",
      "[5 rows x 30 columns]\n"
     ]
    }
   ],
   "source": [
    "import pandas as pd\n",
    "from sklearn.datasets import load_breast_cancer\n",
    "cancer_data=load_breast_cancer()\n",
    "df=pd.DataFrame(cancer_data[\"data\"],columns=cancer_data[\"feature_names\"])\n",
    "print(df.head())\n"
   ]
  },
  {
   "cell_type": "code",
   "execution_count": 51,
   "metadata": {},
   "outputs": [
    {
     "name": "stdout",
     "output_type": "stream",
     "text": [
      "['malignant' 'benign']\n",
      "     mean radius  mean texture  mean perimeter  mean area  mean smoothness  \\\n",
      "564        21.56         22.39          142.00     1479.0          0.11100   \n",
      "565        20.13         28.25          131.20     1261.0          0.09780   \n",
      "566        16.60         28.08          108.30      858.1          0.08455   \n",
      "567        20.60         29.33          140.10     1265.0          0.11780   \n",
      "568         7.76         24.54           47.92      181.0          0.05263   \n",
      "\n",
      "     mean compactness  mean concavity  mean concave points  mean symmetry  \\\n",
      "564           0.11590         0.24390              0.13890         0.1726   \n",
      "565           0.10340         0.14400              0.09791         0.1752   \n",
      "566           0.10230         0.09251              0.05302         0.1590   \n",
      "567           0.27700         0.35140              0.15200         0.2397   \n",
      "568           0.04362         0.00000              0.00000         0.1587   \n",
      "\n",
      "     mean fractal dimension  ...  worst texture  worst perimeter  worst area  \\\n",
      "564                 0.05623  ...          26.40           166.10      2027.0   \n",
      "565                 0.05533  ...          38.25           155.00      1731.0   \n",
      "566                 0.05648  ...          34.12           126.70      1124.0   \n",
      "567                 0.07016  ...          39.42           184.60      1821.0   \n",
      "568                 0.05884  ...          30.37            59.16       268.6   \n",
      "\n",
      "     worst smoothness  worst compactness  worst concavity  \\\n",
      "564           0.14100            0.21130           0.4107   \n",
      "565           0.11660            0.19220           0.3215   \n",
      "566           0.11390            0.30940           0.3403   \n",
      "567           0.16500            0.86810           0.9387   \n",
      "568           0.08996            0.06444           0.0000   \n",
      "\n",
      "     worst concave points  worst symmetry  worst fractal dimension  result  \n",
      "564                0.2216          0.2060                  0.07115       0  \n",
      "565                0.1628          0.2572                  0.06637       0  \n",
      "566                0.1418          0.2218                  0.07820       0  \n",
      "567                0.2650          0.4087                  0.12400       0  \n",
      "568                0.0000          0.2871                  0.07039       1  \n",
      "\n",
      "[5 rows x 31 columns]\n"
     ]
    }
   ],
   "source": [
    "import pandas as pd\n",
    "from sklearn.datasets import load_breast_cancer\n",
    "cancer_data=load_breast_cancer()\n",
    "print(cancer_data[\"target_names\"])\n",
    "df[\"result\"]=cancer_data[\"target\"]\n",
    "print(df.tail())\n"
   ]
  },
  {
   "cell_type": "code",
   "execution_count": 52,
   "metadata": {},
   "outputs": [
    {
     "name": "stdout",
     "output_type": "stream",
     "text": [
      "[0]\n",
      "0\n",
      "0.9578207381370826\n"
     ]
    },
    {
     "name": "stderr",
     "output_type": "stream",
     "text": [
      "E:\\anaconda\\lib\\site-packages\\sklearn\\linear_model\\logistic.py:432: FutureWarning: Default solver will be changed to 'lbfgs' in 0.22. Specify a solver to silence this warning.\n",
      "  FutureWarning)\n"
     ]
    }
   ],
   "source": [
    "import pandas as pd\n",
    "from sklearn.datasets import load_breast_cancer\n",
    "from sklearn.linear_model import LogisticRegression\n",
    "cancer_data=load_breast_cancer()\n",
    "df=pd.DataFrame(cancer_data[\"data\"],columns=cancer_data[\"feature_names\"])\n",
    "df[\"target\"]=cancer_data[\"target\"]\n",
    "model=LogisticRegression()\n",
    "x=df[cancer_data[\"feature_names\"]].values\n",
    "y=df[\"target\"].values\n",
    "model.fit(x,y)\n",
    "print(model.predict([x[0]]))\n",
    "print(y[0])\n",
    "print(model.score(x,y))\n",
    "\n",
    "\n"
   ]
  },
  {
   "cell_type": "code",
   "execution_count": 53,
   "metadata": {},
   "outputs": [
    {
     "name": "stdout",
     "output_type": "stream",
     "text": [
      "Accuracy: 0.8038331454340474\n",
      "Precision: 0.7818791946308725\n",
      "Recall: 0.6812865497076024\n",
      "F1: 0.728125\n"
     ]
    }
   ],
   "source": [
    "import pandas as pd\n",
    "from sklearn.metrics import accuracy_score,precision_score,recall_score,f1_score\n",
    "from sklearn.linear_model import LogisticRegression\n",
    "model=LogisticRegression(solver=\"liblinear\")\n",
    "df=pd.read_csv(\"https://sololearn.com/uploads/files/titanic.csv\")\n",
    "df[\"male\"]=df[\"Sex\"]==\"male\"\n",
    "x=df[[\"Pclass\",\"male\",\"Age\",\"Siblings/Spouses\",\"Parents/Children\",\"Fare\"]].values\n",
    "y=df[\"Survived\"].values\n",
    "model.fit(x,y)\n",
    "y_pred=model.predict(x)\n",
    "print(\"Accuracy:\",accuracy_score(y,y_pred))\n",
    "print(\"Precision:\",precision_score(y,y_pred))\n",
    "print(\"Recall:\",recall_score(y,y_pred))\n",
    "print(\"F1:\",f1_score(y,y_pred))"
   ]
  },
  {
   "cell_type": "code",
   "execution_count": 54,
   "metadata": {},
   "outputs": [
    {
     "name": "stdout",
     "output_type": "stream",
     "text": [
      "[[480  65]\n",
      " [109 233]]\n",
      "[[480 109]\n",
      " [ 65 233]]\n"
     ]
    }
   ],
   "source": [
    "from sklearn.metrics import confusion_matrix\n",
    "print(confusion_matrix(y,y_pred))\n",
    "print(confusion_matrix(y_pred,y))"
   ]
  },
  {
   "cell_type": "code",
   "execution_count": 55,
   "metadata": {},
   "outputs": [
    {
     "name": "stdout",
     "output_type": "stream",
     "text": [
      "whole dataset: (887, 6) (887,)\n",
      "training dataset: (665, 6) (665,)\n",
      "test dataset: (222, 6) (222,)\n"
     ]
    }
   ],
   "source": [
    "import pandas as pd\n",
    "from sklearn.linear_model import LogisticRegression\n",
    "from sklearn.model_selection import train_test_split\n",
    "df=pd.read_csv(\"https://sololearn.com/uploads/files/titanic.csv\")\n",
    "df[\"male\"]=df[\"Sex\"]==\"male\"\n",
    "x=df[[\"Pclass\",\"male\",\"Age\",\"Siblings/Spouses\",\"Parents/Children\",\"Fare\"]].values\n",
    "y=df[\"Survived\"].values\n",
    "x_train,x_test,y_train,y_test=train_test_split(x,y)\n",
    "print(\"whole dataset:\",x.shape,y.shape)\n",
    "print(\"training dataset:\",x_train.shape,y_train.shape)\n",
    "print(\"test dataset:\",x_test.shape,y_test.shape)"
   ]
  },
  {
   "cell_type": "code",
   "execution_count": 56,
   "metadata": {},
   "outputs": [
    {
     "name": "stdout",
     "output_type": "stream",
     "text": [
      "Accuracy: 0.7837837837837838\n",
      "Precision: 0.8028169014084507\n",
      "Recall: 0.6263736263736264\n",
      "F1: 0.7037037037037038\n"
     ]
    }
   ],
   "source": [
    "import pandas as pd\n",
    "from sklearn.linear_model import LogisticRegression\n",
    "from sklearn.model_selection import train_test_split\n",
    "from sklearn.metrics import accuracy_score,precision_score,recall_score,f1_score\n",
    "df=pd.read_csv(\"https://sololearn.com/uploads/files/titanic.csv\")\n",
    "df[\"male\"]=df[\"Sex\"]==\"male\"\n",
    "x=df[[\"Pclass\",\"male\",\"Age\",\"Siblings/Spouses\",\"Parents/Children\",\"Fare\"]].values\n",
    "y=df[\"Survived\"].values\n",
    "x_train,x_test,y_train,y_test=train_test_split(x,y)\n",
    "model=LogisticRegression(solver=\"liblinear\")\n",
    "model.fit(x_train,y_train)\n",
    "y_pred=model.predict(x_test)\n",
    "print(\"Accuracy:\",accuracy_score(y_test,y_pred))\n",
    "print(\"Precision:\",precision_score(y_test,y_pred))\n",
    "print(\"Recall:\",recall_score(y_test,y_pred))\n",
    "print(\"F1:\",f1_score(y_test,y_pred))\n"
   ]
  },
  {
   "cell_type": "code",
   "execution_count": 57,
   "metadata": {},
   "outputs": [
    {
     "name": "stdout",
     "output_type": "stream",
     "text": [
      "Accuracy: 0.7882882882882883\n",
      "Precision: 0.7368421052631579\n",
      "Recall: 0.6746987951807228\n",
      "F1: 0.7044025157232704\n"
     ]
    }
   ],
   "source": [
    "#USING A RANDOM STATE\n",
    "import pandas as pd\n",
    "from sklearn.linear_model import LogisticRegression\n",
    "from sklearn.model_selection import train_test_split\n",
    "from sklearn.metrics import accuracy_score,precision_score,recall_score,f1_score\n",
    "df=pd.read_csv(\"https://sololearn.com/uploads/files/titanic.csv\")\n",
    "df[\"male\"]=df[\"Sex\"]==\"male\"\n",
    "x=df[[\"Pclass\",\"male\",\"Age\",\"Siblings/Spouses\",\"Parents/Children\",\"Fare\"]].values\n",
    "y=df[\"Survived\"].values\n",
    "x_train,x_test,y_train,y_test=train_test_split(x,y,random_state=27)\n",
    "model=LogisticRegression(solver=\"liblinear\")\n",
    "model.fit(x_train,y_train)\n",
    "y_pred=model.predict(x_test)\n",
    "print(\"Accuracy:\",accuracy_score(y_test,y_pred))\n",
    "print(\"Precision:\",precision_score(y_test,y_pred))\n",
    "print(\"Recall:\",recall_score(y_test,y_pred))\n",
    "print(\"F1:\",f1_score(y_test,y_pred))\n"
   ]
  },
  {
   "cell_type": "code",
   "execution_count": 58,
   "metadata": {},
   "outputs": [
    {
     "name": "stdout",
     "output_type": "stream",
     "text": [
      "precision: 0.7368421052631579\n",
      "Recall: 0.6746987951807228\n",
      "F1: 0.7044025157232704\n"
     ]
    }
   ],
   "source": [
    "import pandas as pd\n",
    "from sklearn.linear_model import LogisticRegression\n",
    "from sklearn.metrics import precision_score,recall_score\n",
    "from sklearn.model_selection import train_test_split\n",
    "df=pd.read_csv(\"https://sololearn.com/uploads/files/titanic.csv\")\n",
    "df[\"male\"]=df[\"Sex\"]==\"male\"\n",
    "x=df[[\"Pclass\",\"male\",\"Age\",\"Siblings/Spouses\",\"Parents/Children\",\"Fare\"]].values\n",
    "y=df[\"Survived\"].values\n",
    "x_train,x_test,y_train,y_test=train_test_split(x,y,random_state=27)\n",
    "model=LogisticRegression(solver=\"liblinear\")\n",
    "model.fit(x_train,y_train)\n",
    "ypred=model.predict_proba(x_test)[:,1]\n",
    "\n",
    "print(\"precision:\",precision_score(y_test,y_pred))\n",
    "print(\"Recall:\",recall_score(y_test,y_pred))\n",
    "print(\"F1:\",f1_score(y_test,y_pred))\n",
    "\n",
    "\n"
   ]
  },
  {
   "cell_type": "code",
   "execution_count": 59,
   "metadata": {},
   "outputs": [
    {
     "name": "stdout",
     "output_type": "stream",
     "text": [
      "sensitivity: 0.6097560975609756\n",
      "specificity: 0.9285714285714286\n"
     ]
    }
   ],
   "source": [
    "import pandas as pd\n",
    "from sklearn.linear_model import LogisticRegression\n",
    "from sklearn.model_selection import train_test_split\n",
    "from sklearn.metrics import recall_score, precision_recall_fscore_support\n",
    "\n",
    "sensitivity_score = recall_score\n",
    "def specificity_score(y_true, y_pred):\n",
    "    p, r, f, s = precision_recall_fscore_support(y_true, y_pred)\n",
    "    return r[0]\n",
    "\n",
    "df = pd.read_csv('https://sololearn.com/uploads/files/titanic.csv')\n",
    "df['male'] = df['Sex'] == 'male'\n",
    "X = df[['Pclass', 'male', 'Age', 'Siblings/Spouses', 'Parents/Children', 'Fare']].values\n",
    "y = df['Survived'].values\n",
    "\n",
    "X_train, X_test, y_train, y_test = train_test_split(X, y, random_state=5)\n",
    "\n",
    "model = LogisticRegression(solver=\"liblinear\")\n",
    "model.fit(X_train, y_train)\n",
    "y_pred = model.predict(X_test)\n",
    "\n",
    "print(\"sensitivity:\", sensitivity_score(y_test, y_pred))\n",
    "print(\"specificity:\", specificity_score(y_test, y_pred))"
   ]
  },
  {
   "cell_type": "code",
   "execution_count": 76,
   "metadata": {},
   "outputs": [
    {
     "name": "stdout",
     "output_type": "stream",
     "text": [
      "[0]\n"
     ]
    }
   ],
   "source": [
    "import pandas as pd\n",
    "from sklearn.model_selection import train_test_split\n",
    "from sklearn.tree import DecisionTreeClassifier\n",
    "model=DecisionTreeClassifier()\n",
    "df = pd.read_csv('https://sololearn.com/uploads/files/titanic.csv')\n",
    "df['male'] = df['Sex'] == 'male'\n",
    "X = df[['Pclass', 'male', 'Age', 'Siblings/Spouses', 'Parents/Children', 'Fare']].values\n",
    "y = df['Survived'].values\n",
    "X_train, X_test, y_train, y_test = train_test_split(X, y, random_state=5)\n",
    "model.fit(x_train,y_train)\n",
    "print(model.predict([[3,True,22,1,0,7.25]]))"
   ]
  },
  {
   "cell_type": "code",
   "execution_count": null,
   "metadata": {},
   "outputs": [],
   "source": []
  }
 ],
 "metadata": {
  "kernelspec": {
   "display_name": "Python 3",
   "language": "python",
   "name": "python3"
  },
  "language_info": {
   "codemirror_mode": {
    "name": "ipython",
    "version": 3
   },
   "file_extension": ".py",
   "mimetype": "text/x-python",
   "name": "python",
   "nbconvert_exporter": "python",
   "pygments_lexer": "ipython3",
   "version": "3.7.6"
  }
 },
 "nbformat": 4,
 "nbformat_minor": 4
}
